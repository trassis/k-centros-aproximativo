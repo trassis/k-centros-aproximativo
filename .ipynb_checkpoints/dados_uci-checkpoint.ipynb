{
 "cells": [
  {
   "cell_type": "code",
   "execution_count": 30,
   "id": "6b930185",
   "metadata": {},
   "outputs": [],
   "source": [
    "import pandas as pd\n",
    "import numpy as np\n",
    "from scipy.io import arff\n",
    "from sklearn.preprocessing import LabelEncoder"
   ]
  },
  {
   "cell_type": "code",
   "execution_count": 31,
   "id": "1790aa53",
   "metadata": {
    "scrolled": false
   },
   "outputs": [],
   "source": [
    "def ret_(df):\n",
    "    pontos = df.iloc[:, :-1].values\n",
    "    labels = df.iloc[:, -1].values\n",
    "    label_encoder = LabelEncoder()\n",
    "    labels = label_encoder.fit_transform(labels) \n",
    "    K = len(np.unique(labels))\n",
    "\n",
    "    return [K, pontos, labels]\n",
    "\n",
    "def dados_rice():\n",
    "    df = arff.loadarff('./datasets/rice-cammeo-and-osmancik/Rice_Cammeo_Osmancik.arff')\n",
    "    df = pd.DataFrame(df[0])\n",
    "    return ret_(df)\n",
    "\n",
    "def dados_banknote():\n",
    "    df = pd.read_csv('datasets/banknote-authentication/data_banknote_authentication.txt', delimiter=',', header=None)\n",
    "    return ret_(df) \n",
    "\n",
    "def dados_wine_red():\n",
    "    df = pd.read_csv('datasets/wine-quality/winequality-red.csv', delimiter=';')\n",
    "    return ret_(df)\n",
    "\n",
    "def dados_wine_white():\n",
    "    df = pd.read_csv('datasets/wine-quality/winequality-white.csv', delimiter=';')\n",
    "    return ret_(df)\n",
    "\n",
    "def dados_abalone():\n",
    "    df = pd.read_csv('datasets/abalone/abalone.data', delimiter=',', header=None)\n",
    "    df[0] = df[0].map({'F':0, 'M':1})\n",
    "    return ret_(df)\n",
    "\n",
    "def dados_eletrical():\n",
    "    df = pd.read_csv('datasets/eletrical-stability/eletrical.csv')\n",
    "    return ret_(df)\n",
    "\n",
    "def dados_optical():\n",
    "    df = pd.read_csv('datasets/optical_recognition_of_handwritten_digits/optdigits.tra')\n",
    "    return ret_(df)"
   ]
  },
  {
   "cell_type": "code",
   "execution_count": 37,
   "id": "9f7a0ede",
   "metadata": {},
   "outputs": [
    {
     "data": {
      "text/plain": [
       "[2,\n",
       " array([[ 2.95906002e+00,  3.07988520e+00,  8.38102539e+00, ...,\n",
       "          8.87444921e-01,  9.58033988e-01,  5.53474892e-02],\n",
       "        [ 9.30409723e+00,  4.90252411e+00,  3.04754073e+00, ...,\n",
       "          5.62139051e-01,  7.81759911e-01, -5.95746433e-03],\n",
       "        [ 8.97170691e+00,  8.84842842e+00,  3.04647875e+00, ...,\n",
       "          8.39444015e-01,  1.09853245e-01,  3.47087905e-03],\n",
       "        ...,\n",
       "        [ 2.36403419e+00,  2.84203025e+00,  8.77639096e+00, ...,\n",
       "          1.49286458e-01,  1.45984032e-01, -3.18098881e-02],\n",
       "        [ 9.63151069e+00,  3.99439760e+00,  2.75707093e+00, ...,\n",
       "          8.89118346e-01,  8.18391326e-01,  3.77888091e-02],\n",
       "        [ 6.53052662e+00,  6.78178990e+00,  4.34969522e+00, ...,\n",
       "          3.78760930e-01,  9.42630833e-01,  4.52633082e-02]]),\n",
       " array([1, 0, 1, ..., 0, 1, 1])]"
      ]
     },
     "execution_count": 37,
     "metadata": {},
     "output_type": "execute_result"
    }
   ],
   "source": [
    "# dados_rice()\n",
    "# dados_banknote()\n",
    "# dados_wine_red()\n",
    "# dados_wine_white()\n",
    "# dados_abalone()\n",
    "# dados_eletrical()"
   ]
  },
  {
   "cell_type": "code",
   "execution_count": null,
   "id": "c2b873ac",
   "metadata": {},
   "outputs": [],
   "source": []
  }
 ],
 "metadata": {
  "kernelspec": {
   "display_name": "Python 3 (ipykernel)",
   "language": "python",
   "name": "python3"
  },
  "language_info": {
   "codemirror_mode": {
    "name": "ipython",
    "version": 3
   },
   "file_extension": ".py",
   "mimetype": "text/x-python",
   "name": "python",
   "nbconvert_exporter": "python",
   "pygments_lexer": "ipython3",
   "version": "3.8.10"
  }
 },
 "nbformat": 4,
 "nbformat_minor": 5
}
