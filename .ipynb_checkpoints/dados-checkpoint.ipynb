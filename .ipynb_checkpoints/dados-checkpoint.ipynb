{
 "cells": [
  {
   "cell_type": "code",
   "execution_count": 1,
   "id": "6b930185",
   "metadata": {},
   "outputs": [],
   "source": [
    "import pandas as pd\n",
    "import numpy as np"
   ]
  },
  {
   "cell_type": "code",
   "execution_count": 38,
   "id": "1790aa53",
   "metadata": {
    "scrolled": false
   },
   "outputs": [
    {
     "data": {
      "text/plain": [
       "[19,\n",
       " array([[ 26.,   7.,   3., ...,  90., 172.,  30.],\n",
       "        [  0.,   7.,   3., ...,  98., 178.,  31.],\n",
       "        [ 23.,   7.,   4., ...,  89., 170.,  31.],\n",
       "        ...,\n",
       "        [  0.,   0.,   3., ...,  98., 170.,  34.],\n",
       "        [  0.,   0.,   4., ..., 100., 170.,  35.],\n",
       "        [  0.,   0.,   6., ...,  77., 175.,  25.]]),\n",
       " array([ 4,  0,  2,  4,  2,  2,  7,  4, 11,  7,  7,  7,  7,  1,  4,  7,  2,\n",
       "         7,  7,  2,  7,  1, 11,  4,  7,  6,  1,  4,  7,  2,  7,  7,  4,  7,\n",
       "         2,  1,  7,  4,  7,  4,  2,  4,  4,  7,  2,  3,  3,  4,  7, 10,  0,\n",
       "         0,  2,  2,  0,  0,  3,  3,  0,  1,  3,  4,  3,  3,  0,  1,  3,  3,\n",
       "         3,  2,  2,  5,  7,  3,  8,  7,  2,  7,  1,  3,  1,  1,  7,  7,  5,\n",
       "        10,  7, 11,  1,  7,  3,  7,  3,  4,  1,  3,  9,  3,  1, 14,  2,  7,\n",
       "         2,  7, 13,  7,  3,  3,  2,  7,  2,  7,  2,  1,  1,  1,  7,  2,  2,\n",
       "         2,  1,  2,  2,  2,  2,  2,  2,  2,  2,  7,  7,  2,  2,  2,  0,  1,\n",
       "         3,  1,  7,  7,  2,  7,  2,  7,  7,  7,  2,  2,  1,  7,  3,  7,  1,\n",
       "         1,  7,  2,  7,  3,  7,  7,  7,  7,  3, 11, 11,  8,  8,  7,  7,  7,\n",
       "         4,  1,  7,  9,  2,  7,  1,  7,  8,  3,  8,  2,  3,  1,  1,  1,  1,\n",
       "         9,  1,  2,  4,  9,  1,  3,  7,  1,  7, 13,  7,  9,  7,  8,  3,  0,\n",
       "         7,  2,  1,  7,  7,  4,  2,  1,  9,  0,  0,  0,  0,  1,  9,  7,  7,\n",
       "         7,  9,  4,  7,  7,  4,  7,  7,  8,  1, 15,  7,  2,  2,  2,  8,  7,\n",
       "         7,  4,  7,  7,  2,  7,  7,  3,  7,  7,  7, 10,  7,  0,  7,  3,  1,\n",
       "         7,  1,  2,  4,  4,  1,  7,  1,  3,  2,  1,  1,  7,  7,  7,  7,  3,\n",
       "         9,  0,  8,  3,  0,  0,  7, 10,  1,  4,  4,  7,  1,  0,  3, 11,  7,\n",
       "         7,  4,  7,  7,  0,  0,  7,  3,  7,  1, 14,  0,  8,  3,  0,  2,  2,\n",
       "         1,  4,  8,  1,  7,  0,  0,  0,  5,  5,  1,  7,  2,  7,  3,  1,  7,\n",
       "        18,  7,  0,  1,  3,  2,  3,  7,  4,  7,  1,  7,  7,  0,  0,  1,  3,\n",
       "         2,  1,  3,  1,  4,  7,  1,  1,  1,  7,  2,  1,  7,  4,  7,  2,  3,\n",
       "         7,  5, 10,  2,  1,  4,  7,  7,  7,  4,  1,  1,  2,  3,  1,  3,  3,\n",
       "         3,  2,  3,  7,  7,  3,  7,  3,  2,  2,  8,  3,  3,  9,  3,  3,  7,\n",
       "         8,  2,  4,  2,  7,  7,  7,  8,  7,  0,  7,  2,  3,  7,  0,  0,  0,\n",
       "         7,  7,  7,  2,  4,  3,  4,  4,  4,  7,  7,  1, 18,  7,  4,  4,  2,\n",
       "         8,  2,  7,  3,  4,  1,  3,  2,  3,  7,  3,  7,  2,  1,  7,  3,  3,\n",
       "         3,  2,  4,  4,  0, 11,  9,  3,  4,  7,  2,  2,  2,  7,  2,  2,  1,\n",
       "         7,  2,  4,  7,  7,  7,  7,  4,  7,  7,  1,  2, 17,  1,  1,  7,  7,\n",
       "         7,  2,  1,  2,  4,  1,  4,  4,  7,  7,  4,  4,  7,  8,  4,  1,  5,\n",
       "         2,  3,  1,  1,  3,  2,  2,  7,  1,  4,  1,  2,  7,  7,  1,  3,  7,\n",
       "         3,  2,  2,  2,  1,  2,  7,  3,  4,  7,  3,  1,  1,  7,  1,  7,  3,\n",
       "         7,  7,  7,  0,  3,  1,  3,  9,  1,  7,  7,  7,  4,  7,  2,  2,  3,\n",
       "         1,  7,  7,  2,  0,  0,  4,  0,  2,  7,  2, 10,  1,  3,  1,  3,  3,\n",
       "         4,  2,  7,  7,  8,  2,  3,  2, 15,  9,  8,  2,  2,  3,  2,  7,  3,\n",
       "         2,  7,  2,  3,  7,  3,  2,  7,  3,  7,  2,  3,  2,  2,  2,  2,  2,\n",
       "         2,  7,  3,  3,  3,  2,  2,  3,  3,  2,  2,  7,  2,  5,  3,  2,  2,\n",
       "         2,  2,  2,  2,  2,  2,  2,  2,  3,  3, 17,  2,  2,  3,  2,  3,  3,\n",
       "         7,  7,  2,  3,  2,  4,  2,  3,  7,  2,  7,  2,  2,  3,  3,  2,  3,\n",
       "         3,  7,  9,  3,  3,  2, 16,  7,  7,  7,  7,  7,  7,  2,  9,  2,  3,\n",
       "         2,  2,  7,  2,  7,  3,  2,  4,  7,  2,  2,  7,  3,  2,  3,  7,  1,\n",
       "         2,  7, 14,  7,  2,  2,  3,  1,  0,  2,  0,  1, 12,  7,  7,  7,  3,\n",
       "         7,  2,  2,  2,  7,  2,  7,  7,  1,  7,  3,  7,  7,  7,  9,  7,  2,\n",
       "         0,  0,  3,  2,  2,  3,  3,  7,  2,  3,  3,  4,  2,  7,  4, 18,  8,\n",
       "         2,  7,  7, 15,  7,  4,  0,  0,  0])]"
      ]
     },
     "execution_count": 38,
     "metadata": {},
     "output_type": "execute_result"
    }
   ],
   "source": [
    "import pandas as pd\n",
    "from scipy.io import arff\n",
    "from sklearn.preprocessing import LabelEncoder\n",
    "\n",
    "def ret_(df):\n",
    "    pontos = df.iloc[:, :-1].values\n",
    "    labels = df.iloc[:, -1].values\n",
    "    label_encoder = LabelEncoder()\n",
    "    labels = label_encoder.fit_transform(labels) # transforma label em numero\n",
    "    K = len(np.unique(labels))\n",
    "\n",
    "    return [K, pontos, labels]\n",
    "\n",
    "\n",
    "def rice_data():\n",
    "    df = arff.loadarff('./datasets/rice-cammeo-and-osmancik/Rice_Cammeo_Osmancik.arff')\n",
    "    df = pd.DataFrame(df[0])\n",
    "\n",
    "    ret = ret_(df)\n",
    "    \n",
    "    return ret\n",
    "\n",
    "def banknote_data():\n",
    "    df = pd.read_csv('datasets/banknote-authentication/data_banknote_authentication.txt', delimiter=',', header=None)\n",
    "\n",
    "    ret = ret_(df) \n",
    "    return ret \n",
    "\n",
    "def wine_red_data():\n",
    "    df = pd.read_csv('datasets/wine-quality/winequality-red.csv', delimiter=';')\n",
    "\n",
    "    ret = ret_(df)\n",
    "    return ret\n",
    "\n",
    "def wine_white_data():\n",
    "    df = pd.read_csv('datasets/wine-quality/winequality-white.csv', delimiter=';')\n",
    "\n",
    "    ret = ret_(df)\n",
    "    return ret\n",
    "\n",
    "def abalone():\n",
    "    df = pd.read_csv('datasets/abalone/abalone.data', delimiter=',', header=None)\n",
    "\n",
    "    df[0] = df[0].map({'F':0, 'M':1})\n",
    "    ret = ret_(df)\n",
    "    return ret\n",
    "\n",
    "def eletrical_stability():\n",
    "    df = pd.read_csv('datasets/eletrical-stability/eletrical.csv')\n",
    "    ret = ret_(df)\n",
    "    return ret\n",
    "\n",
    "def raisin():\n",
    "    df = arff.loadarff('./datasets/raisin/Raisin_Dataset/Raisin_Dataset.arff')\n",
    "    df = pd.DataFrame(df[0])\n",
    "    ret = ret_(df)\n",
    "    return ret\n",
    "\n",
    "def online_shopping():\n",
    "    df = pd.read_csv('datasets/online-shopping/online_shoppers.csv')\n",
    "    df.drop('Month', axis=1, inplace=True)\n",
    "    df.drop('Revenue', axis=1, inplace=True)\n",
    "    df.drop('Weekend', axis=1, inplace=True)\n",
    "    ret = ret_(df)\n",
    "    return ret\n",
    "\n",
    "def yeast():\n",
    "    df = pd.read_csv('datasets/yeast/yeast.data', delim_whitespace=True)\n",
    "\n",
    "    df.drop(df.columns[0], axis=1, inplace=True)\n",
    "    ret = ret_(df)\n",
    "    return ret\n"
   ]
  },
  {
   "cell_type": "code",
   "execution_count": 30,
   "id": "0bd98dd1",
   "metadata": {},
   "outputs": [
    {
     "data": {
      "text/plain": [
       "[2,\n",
       " array([[1.52310000e+04, 5.25578979e+02, 2.29749878e+02, ...,\n",
       "         9.28882003e-01, 1.56170000e+04, 5.72895527e-01],\n",
       "        [1.46560000e+04, 4.94311005e+02, 2.06020065e+02, ...,\n",
       "         8.95404994e-01, 1.50720000e+04, 6.15436316e-01],\n",
       "        [1.46340000e+04, 5.01122009e+02, 2.14106781e+02, ...,\n",
       "         9.12118077e-01, 1.49540000e+04, 6.93258822e-01],\n",
       "        ...,\n",
       "        [1.24370000e+04, 4.42498993e+02, 1.83572922e+02, ...,\n",
       "         8.81144345e-01, 1.26450000e+04, 6.26738548e-01],\n",
       "        [9.88200000e+03, 3.92296997e+02, 1.61193985e+02, ...,\n",
       "         8.74406099e-01, 1.00970000e+04, 6.59063637e-01],\n",
       "        [1.14340000e+04, 4.04709991e+02, 1.61079269e+02, ...,\n",
       "         8.25692177e-01, 1.15910000e+04, 8.02949429e-01]]),\n",
       " array([0, 0, 0, ..., 1, 1, 1])]"
      ]
     },
     "execution_count": 30,
     "metadata": {},
     "output_type": "execute_result"
    }
   ],
   "source": [
    "rice_data()"
   ]
  },
  {
   "cell_type": "code",
   "execution_count": 31,
   "id": "9f7a0ede",
   "metadata": {},
   "outputs": [
    {
     "data": {
      "text/plain": [
       "[2,\n",
       " array([[  3.6216 ,   8.6661 ,  -2.8073 ,  -0.44699],\n",
       "        [  4.5459 ,   8.1674 ,  -2.4586 ,  -1.4621 ],\n",
       "        [  3.866  ,  -2.6383 ,   1.9242 ,   0.10645],\n",
       "        ...,\n",
       "        [ -3.7503 , -13.4586 ,  17.5932 ,  -2.7771 ],\n",
       "        [ -3.5637 ,  -8.3827 ,  12.393  ,  -1.2823 ],\n",
       "        [ -2.5419 ,  -0.65804,   2.6842 ,   1.1952 ]]),\n",
       " array([0, 0, 0, ..., 1, 1, 1])]"
      ]
     },
     "execution_count": 31,
     "metadata": {},
     "output_type": "execute_result"
    }
   ],
   "source": [
    "banknote_data()"
   ]
  },
  {
   "cell_type": "code",
   "execution_count": 32,
   "id": "e54dd284",
   "metadata": {},
   "outputs": [
    {
     "ename": "FileNotFoundError",
     "evalue": "[Errno 2] No such file or directory: 'wine-quality/winequality-red.csv'",
     "output_type": "error",
     "traceback": [
      "\u001b[0;31m---------------------------------------------------------------------------\u001b[0m",
      "\u001b[0;31mFileNotFoundError\u001b[0m                         Traceback (most recent call last)",
      "Cell \u001b[0;32mIn[32], line 1\u001b[0m\n\u001b[0;32m----> 1\u001b[0m \u001b[43mwine_data\u001b[49m\u001b[43m(\u001b[49m\u001b[43m)\u001b[49m\n",
      "Cell \u001b[0;32mIn[29], line 30\u001b[0m, in \u001b[0;36mwine_data\u001b[0;34m()\u001b[0m\n\u001b[1;32m     29\u001b[0m \u001b[38;5;28;01mdef\u001b[39;00m \u001b[38;5;21mwine_data\u001b[39m():\n\u001b[0;32m---> 30\u001b[0m     df \u001b[38;5;241m=\u001b[39m \u001b[43mpd\u001b[49m\u001b[38;5;241;43m.\u001b[39;49m\u001b[43mread_csv\u001b[49m\u001b[43m(\u001b[49m\u001b[38;5;124;43m'\u001b[39;49m\u001b[38;5;124;43mwine-quality/winequality-red.csv\u001b[39;49m\u001b[38;5;124;43m'\u001b[39;49m\u001b[43m,\u001b[49m\u001b[43m \u001b[49m\u001b[43mdelimiter\u001b[49m\u001b[38;5;241;43m=\u001b[39;49m\u001b[38;5;124;43m'\u001b[39;49m\u001b[38;5;124;43m,\u001b[39;49m\u001b[38;5;124;43m'\u001b[39;49m\u001b[43m)\u001b[49m\n\u001b[1;32m     32\u001b[0m     ret \u001b[38;5;241m=\u001b[39m ret(df)\n\u001b[1;32m     33\u001b[0m     \u001b[38;5;28;01mreturn\u001b[39;00m df\n",
      "File \u001b[0;32m~/.local/lib/python3.10/site-packages/pandas/util/_decorators.py:211\u001b[0m, in \u001b[0;36mdeprecate_kwarg.<locals>._deprecate_kwarg.<locals>.wrapper\u001b[0;34m(*args, **kwargs)\u001b[0m\n\u001b[1;32m    209\u001b[0m     \u001b[38;5;28;01melse\u001b[39;00m:\n\u001b[1;32m    210\u001b[0m         kwargs[new_arg_name] \u001b[38;5;241m=\u001b[39m new_arg_value\n\u001b[0;32m--> 211\u001b[0m \u001b[38;5;28;01mreturn\u001b[39;00m \u001b[43mfunc\u001b[49m\u001b[43m(\u001b[49m\u001b[38;5;241;43m*\u001b[39;49m\u001b[43margs\u001b[49m\u001b[43m,\u001b[49m\u001b[43m \u001b[49m\u001b[38;5;241;43m*\u001b[39;49m\u001b[38;5;241;43m*\u001b[39;49m\u001b[43mkwargs\u001b[49m\u001b[43m)\u001b[49m\n",
      "File \u001b[0;32m~/.local/lib/python3.10/site-packages/pandas/util/_decorators.py:331\u001b[0m, in \u001b[0;36mdeprecate_nonkeyword_arguments.<locals>.decorate.<locals>.wrapper\u001b[0;34m(*args, **kwargs)\u001b[0m\n\u001b[1;32m    325\u001b[0m \u001b[38;5;28;01mif\u001b[39;00m \u001b[38;5;28mlen\u001b[39m(args) \u001b[38;5;241m>\u001b[39m num_allow_args:\n\u001b[1;32m    326\u001b[0m     warnings\u001b[38;5;241m.\u001b[39mwarn(\n\u001b[1;32m    327\u001b[0m         msg\u001b[38;5;241m.\u001b[39mformat(arguments\u001b[38;5;241m=\u001b[39m_format_argument_list(allow_args)),\n\u001b[1;32m    328\u001b[0m         \u001b[38;5;167;01mFutureWarning\u001b[39;00m,\n\u001b[1;32m    329\u001b[0m         stacklevel\u001b[38;5;241m=\u001b[39mfind_stack_level(),\n\u001b[1;32m    330\u001b[0m     )\n\u001b[0;32m--> 331\u001b[0m \u001b[38;5;28;01mreturn\u001b[39;00m \u001b[43mfunc\u001b[49m\u001b[43m(\u001b[49m\u001b[38;5;241;43m*\u001b[39;49m\u001b[43margs\u001b[49m\u001b[43m,\u001b[49m\u001b[43m \u001b[49m\u001b[38;5;241;43m*\u001b[39;49m\u001b[38;5;241;43m*\u001b[39;49m\u001b[43mkwargs\u001b[49m\u001b[43m)\u001b[49m\n",
      "File \u001b[0;32m~/.local/lib/python3.10/site-packages/pandas/io/parsers/readers.py:950\u001b[0m, in \u001b[0;36mread_csv\u001b[0;34m(filepath_or_buffer, sep, delimiter, header, names, index_col, usecols, squeeze, prefix, mangle_dupe_cols, dtype, engine, converters, true_values, false_values, skipinitialspace, skiprows, skipfooter, nrows, na_values, keep_default_na, na_filter, verbose, skip_blank_lines, parse_dates, infer_datetime_format, keep_date_col, date_parser, dayfirst, cache_dates, iterator, chunksize, compression, thousands, decimal, lineterminator, quotechar, quoting, doublequote, escapechar, comment, encoding, encoding_errors, dialect, error_bad_lines, warn_bad_lines, on_bad_lines, delim_whitespace, low_memory, memory_map, float_precision, storage_options)\u001b[0m\n\u001b[1;32m    935\u001b[0m kwds_defaults \u001b[38;5;241m=\u001b[39m _refine_defaults_read(\n\u001b[1;32m    936\u001b[0m     dialect,\n\u001b[1;32m    937\u001b[0m     delimiter,\n\u001b[0;32m   (...)\u001b[0m\n\u001b[1;32m    946\u001b[0m     defaults\u001b[38;5;241m=\u001b[39m{\u001b[38;5;124m\"\u001b[39m\u001b[38;5;124mdelimiter\u001b[39m\u001b[38;5;124m\"\u001b[39m: \u001b[38;5;124m\"\u001b[39m\u001b[38;5;124m,\u001b[39m\u001b[38;5;124m\"\u001b[39m},\n\u001b[1;32m    947\u001b[0m )\n\u001b[1;32m    948\u001b[0m kwds\u001b[38;5;241m.\u001b[39mupdate(kwds_defaults)\n\u001b[0;32m--> 950\u001b[0m \u001b[38;5;28;01mreturn\u001b[39;00m \u001b[43m_read\u001b[49m\u001b[43m(\u001b[49m\u001b[43mfilepath_or_buffer\u001b[49m\u001b[43m,\u001b[49m\u001b[43m \u001b[49m\u001b[43mkwds\u001b[49m\u001b[43m)\u001b[49m\n",
      "File \u001b[0;32m~/.local/lib/python3.10/site-packages/pandas/io/parsers/readers.py:605\u001b[0m, in \u001b[0;36m_read\u001b[0;34m(filepath_or_buffer, kwds)\u001b[0m\n\u001b[1;32m    602\u001b[0m _validate_names(kwds\u001b[38;5;241m.\u001b[39mget(\u001b[38;5;124m\"\u001b[39m\u001b[38;5;124mnames\u001b[39m\u001b[38;5;124m\"\u001b[39m, \u001b[38;5;28;01mNone\u001b[39;00m))\n\u001b[1;32m    604\u001b[0m \u001b[38;5;66;03m# Create the parser.\u001b[39;00m\n\u001b[0;32m--> 605\u001b[0m parser \u001b[38;5;241m=\u001b[39m \u001b[43mTextFileReader\u001b[49m\u001b[43m(\u001b[49m\u001b[43mfilepath_or_buffer\u001b[49m\u001b[43m,\u001b[49m\u001b[43m \u001b[49m\u001b[38;5;241;43m*\u001b[39;49m\u001b[38;5;241;43m*\u001b[39;49m\u001b[43mkwds\u001b[49m\u001b[43m)\u001b[49m\n\u001b[1;32m    607\u001b[0m \u001b[38;5;28;01mif\u001b[39;00m chunksize \u001b[38;5;129;01mor\u001b[39;00m iterator:\n\u001b[1;32m    608\u001b[0m     \u001b[38;5;28;01mreturn\u001b[39;00m parser\n",
      "File \u001b[0;32m~/.local/lib/python3.10/site-packages/pandas/io/parsers/readers.py:1442\u001b[0m, in \u001b[0;36mTextFileReader.__init__\u001b[0;34m(self, f, engine, **kwds)\u001b[0m\n\u001b[1;32m   1439\u001b[0m     \u001b[38;5;28mself\u001b[39m\u001b[38;5;241m.\u001b[39moptions[\u001b[38;5;124m\"\u001b[39m\u001b[38;5;124mhas_index_names\u001b[39m\u001b[38;5;124m\"\u001b[39m] \u001b[38;5;241m=\u001b[39m kwds[\u001b[38;5;124m\"\u001b[39m\u001b[38;5;124mhas_index_names\u001b[39m\u001b[38;5;124m\"\u001b[39m]\n\u001b[1;32m   1441\u001b[0m \u001b[38;5;28mself\u001b[39m\u001b[38;5;241m.\u001b[39mhandles: IOHandles \u001b[38;5;241m|\u001b[39m \u001b[38;5;28;01mNone\u001b[39;00m \u001b[38;5;241m=\u001b[39m \u001b[38;5;28;01mNone\u001b[39;00m\n\u001b[0;32m-> 1442\u001b[0m \u001b[38;5;28mself\u001b[39m\u001b[38;5;241m.\u001b[39m_engine \u001b[38;5;241m=\u001b[39m \u001b[38;5;28;43mself\u001b[39;49m\u001b[38;5;241;43m.\u001b[39;49m\u001b[43m_make_engine\u001b[49m\u001b[43m(\u001b[49m\u001b[43mf\u001b[49m\u001b[43m,\u001b[49m\u001b[43m \u001b[49m\u001b[38;5;28;43mself\u001b[39;49m\u001b[38;5;241;43m.\u001b[39;49m\u001b[43mengine\u001b[49m\u001b[43m)\u001b[49m\n",
      "File \u001b[0;32m~/.local/lib/python3.10/site-packages/pandas/io/parsers/readers.py:1735\u001b[0m, in \u001b[0;36mTextFileReader._make_engine\u001b[0;34m(self, f, engine)\u001b[0m\n\u001b[1;32m   1733\u001b[0m     \u001b[38;5;28;01mif\u001b[39;00m \u001b[38;5;124m\"\u001b[39m\u001b[38;5;124mb\u001b[39m\u001b[38;5;124m\"\u001b[39m \u001b[38;5;129;01mnot\u001b[39;00m \u001b[38;5;129;01min\u001b[39;00m mode:\n\u001b[1;32m   1734\u001b[0m         mode \u001b[38;5;241m+\u001b[39m\u001b[38;5;241m=\u001b[39m \u001b[38;5;124m\"\u001b[39m\u001b[38;5;124mb\u001b[39m\u001b[38;5;124m\"\u001b[39m\n\u001b[0;32m-> 1735\u001b[0m \u001b[38;5;28mself\u001b[39m\u001b[38;5;241m.\u001b[39mhandles \u001b[38;5;241m=\u001b[39m \u001b[43mget_handle\u001b[49m\u001b[43m(\u001b[49m\n\u001b[1;32m   1736\u001b[0m \u001b[43m    \u001b[49m\u001b[43mf\u001b[49m\u001b[43m,\u001b[49m\n\u001b[1;32m   1737\u001b[0m \u001b[43m    \u001b[49m\u001b[43mmode\u001b[49m\u001b[43m,\u001b[49m\n\u001b[1;32m   1738\u001b[0m \u001b[43m    \u001b[49m\u001b[43mencoding\u001b[49m\u001b[38;5;241;43m=\u001b[39;49m\u001b[38;5;28;43mself\u001b[39;49m\u001b[38;5;241;43m.\u001b[39;49m\u001b[43moptions\u001b[49m\u001b[38;5;241;43m.\u001b[39;49m\u001b[43mget\u001b[49m\u001b[43m(\u001b[49m\u001b[38;5;124;43m\"\u001b[39;49m\u001b[38;5;124;43mencoding\u001b[39;49m\u001b[38;5;124;43m\"\u001b[39;49m\u001b[43m,\u001b[49m\u001b[43m \u001b[49m\u001b[38;5;28;43;01mNone\u001b[39;49;00m\u001b[43m)\u001b[49m\u001b[43m,\u001b[49m\n\u001b[1;32m   1739\u001b[0m \u001b[43m    \u001b[49m\u001b[43mcompression\u001b[49m\u001b[38;5;241;43m=\u001b[39;49m\u001b[38;5;28;43mself\u001b[39;49m\u001b[38;5;241;43m.\u001b[39;49m\u001b[43moptions\u001b[49m\u001b[38;5;241;43m.\u001b[39;49m\u001b[43mget\u001b[49m\u001b[43m(\u001b[49m\u001b[38;5;124;43m\"\u001b[39;49m\u001b[38;5;124;43mcompression\u001b[39;49m\u001b[38;5;124;43m\"\u001b[39;49m\u001b[43m,\u001b[49m\u001b[43m \u001b[49m\u001b[38;5;28;43;01mNone\u001b[39;49;00m\u001b[43m)\u001b[49m\u001b[43m,\u001b[49m\n\u001b[1;32m   1740\u001b[0m \u001b[43m    \u001b[49m\u001b[43mmemory_map\u001b[49m\u001b[38;5;241;43m=\u001b[39;49m\u001b[38;5;28;43mself\u001b[39;49m\u001b[38;5;241;43m.\u001b[39;49m\u001b[43moptions\u001b[49m\u001b[38;5;241;43m.\u001b[39;49m\u001b[43mget\u001b[49m\u001b[43m(\u001b[49m\u001b[38;5;124;43m\"\u001b[39;49m\u001b[38;5;124;43mmemory_map\u001b[39;49m\u001b[38;5;124;43m\"\u001b[39;49m\u001b[43m,\u001b[49m\u001b[43m \u001b[49m\u001b[38;5;28;43;01mFalse\u001b[39;49;00m\u001b[43m)\u001b[49m\u001b[43m,\u001b[49m\n\u001b[1;32m   1741\u001b[0m \u001b[43m    \u001b[49m\u001b[43mis_text\u001b[49m\u001b[38;5;241;43m=\u001b[39;49m\u001b[43mis_text\u001b[49m\u001b[43m,\u001b[49m\n\u001b[1;32m   1742\u001b[0m \u001b[43m    \u001b[49m\u001b[43merrors\u001b[49m\u001b[38;5;241;43m=\u001b[39;49m\u001b[38;5;28;43mself\u001b[39;49m\u001b[38;5;241;43m.\u001b[39;49m\u001b[43moptions\u001b[49m\u001b[38;5;241;43m.\u001b[39;49m\u001b[43mget\u001b[49m\u001b[43m(\u001b[49m\u001b[38;5;124;43m\"\u001b[39;49m\u001b[38;5;124;43mencoding_errors\u001b[39;49m\u001b[38;5;124;43m\"\u001b[39;49m\u001b[43m,\u001b[49m\u001b[43m \u001b[49m\u001b[38;5;124;43m\"\u001b[39;49m\u001b[38;5;124;43mstrict\u001b[39;49m\u001b[38;5;124;43m\"\u001b[39;49m\u001b[43m)\u001b[49m\u001b[43m,\u001b[49m\n\u001b[1;32m   1743\u001b[0m \u001b[43m    \u001b[49m\u001b[43mstorage_options\u001b[49m\u001b[38;5;241;43m=\u001b[39;49m\u001b[38;5;28;43mself\u001b[39;49m\u001b[38;5;241;43m.\u001b[39;49m\u001b[43moptions\u001b[49m\u001b[38;5;241;43m.\u001b[39;49m\u001b[43mget\u001b[49m\u001b[43m(\u001b[49m\u001b[38;5;124;43m\"\u001b[39;49m\u001b[38;5;124;43mstorage_options\u001b[39;49m\u001b[38;5;124;43m\"\u001b[39;49m\u001b[43m,\u001b[49m\u001b[43m \u001b[49m\u001b[38;5;28;43;01mNone\u001b[39;49;00m\u001b[43m)\u001b[49m\u001b[43m,\u001b[49m\n\u001b[1;32m   1744\u001b[0m \u001b[43m\u001b[49m\u001b[43m)\u001b[49m\n\u001b[1;32m   1745\u001b[0m \u001b[38;5;28;01massert\u001b[39;00m \u001b[38;5;28mself\u001b[39m\u001b[38;5;241m.\u001b[39mhandles \u001b[38;5;129;01mis\u001b[39;00m \u001b[38;5;129;01mnot\u001b[39;00m \u001b[38;5;28;01mNone\u001b[39;00m\n\u001b[1;32m   1746\u001b[0m f \u001b[38;5;241m=\u001b[39m \u001b[38;5;28mself\u001b[39m\u001b[38;5;241m.\u001b[39mhandles\u001b[38;5;241m.\u001b[39mhandle\n",
      "File \u001b[0;32m~/.local/lib/python3.10/site-packages/pandas/io/common.py:856\u001b[0m, in \u001b[0;36mget_handle\u001b[0;34m(path_or_buf, mode, encoding, compression, memory_map, is_text, errors, storage_options)\u001b[0m\n\u001b[1;32m    851\u001b[0m \u001b[38;5;28;01melif\u001b[39;00m \u001b[38;5;28misinstance\u001b[39m(handle, \u001b[38;5;28mstr\u001b[39m):\n\u001b[1;32m    852\u001b[0m     \u001b[38;5;66;03m# Check whether the filename is to be opened in binary mode.\u001b[39;00m\n\u001b[1;32m    853\u001b[0m     \u001b[38;5;66;03m# Binary mode does not support 'encoding' and 'newline'.\u001b[39;00m\n\u001b[1;32m    854\u001b[0m     \u001b[38;5;28;01mif\u001b[39;00m ioargs\u001b[38;5;241m.\u001b[39mencoding \u001b[38;5;129;01mand\u001b[39;00m \u001b[38;5;124m\"\u001b[39m\u001b[38;5;124mb\u001b[39m\u001b[38;5;124m\"\u001b[39m \u001b[38;5;129;01mnot\u001b[39;00m \u001b[38;5;129;01min\u001b[39;00m ioargs\u001b[38;5;241m.\u001b[39mmode:\n\u001b[1;32m    855\u001b[0m         \u001b[38;5;66;03m# Encoding\u001b[39;00m\n\u001b[0;32m--> 856\u001b[0m         handle \u001b[38;5;241m=\u001b[39m \u001b[38;5;28;43mopen\u001b[39;49m\u001b[43m(\u001b[49m\n\u001b[1;32m    857\u001b[0m \u001b[43m            \u001b[49m\u001b[43mhandle\u001b[49m\u001b[43m,\u001b[49m\n\u001b[1;32m    858\u001b[0m \u001b[43m            \u001b[49m\u001b[43mioargs\u001b[49m\u001b[38;5;241;43m.\u001b[39;49m\u001b[43mmode\u001b[49m\u001b[43m,\u001b[49m\n\u001b[1;32m    859\u001b[0m \u001b[43m            \u001b[49m\u001b[43mencoding\u001b[49m\u001b[38;5;241;43m=\u001b[39;49m\u001b[43mioargs\u001b[49m\u001b[38;5;241;43m.\u001b[39;49m\u001b[43mencoding\u001b[49m\u001b[43m,\u001b[49m\n\u001b[1;32m    860\u001b[0m \u001b[43m            \u001b[49m\u001b[43merrors\u001b[49m\u001b[38;5;241;43m=\u001b[39;49m\u001b[43merrors\u001b[49m\u001b[43m,\u001b[49m\n\u001b[1;32m    861\u001b[0m \u001b[43m            \u001b[49m\u001b[43mnewline\u001b[49m\u001b[38;5;241;43m=\u001b[39;49m\u001b[38;5;124;43m\"\u001b[39;49m\u001b[38;5;124;43m\"\u001b[39;49m\u001b[43m,\u001b[49m\n\u001b[1;32m    862\u001b[0m \u001b[43m        \u001b[49m\u001b[43m)\u001b[49m\n\u001b[1;32m    863\u001b[0m     \u001b[38;5;28;01melse\u001b[39;00m:\n\u001b[1;32m    864\u001b[0m         \u001b[38;5;66;03m# Binary mode\u001b[39;00m\n\u001b[1;32m    865\u001b[0m         handle \u001b[38;5;241m=\u001b[39m \u001b[38;5;28mopen\u001b[39m(handle, ioargs\u001b[38;5;241m.\u001b[39mmode)\n",
      "\u001b[0;31mFileNotFoundError\u001b[0m: [Errno 2] No such file or directory: 'wine-quality/winequality-red.csv'"
     ]
    }
   ],
   "source": [
    "wine_data()"
   ]
  },
  {
   "cell_type": "code",
   "execution_count": null,
   "id": "cb090fc6",
   "metadata": {},
   "outputs": [],
   "source": []
  }
 ],
 "metadata": {
  "kernelspec": {
   "display_name": "Python 3 (ipykernel)",
   "language": "python",
   "name": "python3"
  },
  "language_info": {
   "codemirror_mode": {
    "name": "ipython",
    "version": 3
   },
   "file_extension": ".py",
   "mimetype": "text/x-python",
   "name": "python",
   "nbconvert_exporter": "python",
   "pygments_lexer": "ipython3",
   "version": "3.8.10"
  }
 },
 "nbformat": 4,
 "nbformat_minor": 5
}
