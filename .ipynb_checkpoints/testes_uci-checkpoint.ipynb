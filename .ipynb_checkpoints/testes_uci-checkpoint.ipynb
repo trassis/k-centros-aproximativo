{
 "cells": [
  {
   "cell_type": "code",
   "execution_count": 2,
   "id": "ef461c1f",
   "metadata": {},
   "outputs": [],
   "source": [
    "import dados_uci\n",
    "import experimento"
   ]
  },
  {
   "cell_type": "markdown",
   "id": "db222de3",
   "metadata": {},
   "source": [
    "# Experimentos com p=1"
   ]
  },
  {
   "cell_type": "code",
   "execution_count": 3,
   "id": "672941a4",
   "metadata": {},
   "outputs": [
    {
     "name": "stdout",
     "output_type": "stream",
     "text": [
      "Testes com p = 1\n"
     ]
    }
   ],
   "source": [
    "# Norma de minkowski\n",
    "p = 1\n",
    "print(f\"Testes com p = {p}\")"
   ]
  },
  {
   "cell_type": "code",
   "execution_count": 3,
   "id": "f156de1d",
   "metadata": {},
   "outputs": [
    {
     "name": "stdout",
     "output_type": "stream",
     "text": [
      "Teste Optical Recognition\n",
      "Tempo para calcular matriz de dist:  122.45956659317017\n",
      "Teste incremental feito:\n",
      "\t\t Média \t\t\t Desvio padrão\n",
      "tempo: \t\t 0.08459011713663737 \t 0.002652132916221481\n",
      "raio: \t\t 412.6 \t 26.477159968546474\n",
      "silhueta: \t 0.03320002140858858 \t 0.013246566520193691\n",
      "rand: \t\t 0.21372685983287662 \t 0.03493567717150601\n",
      "\n",
      "Teste kmeans feito:\n",
      "\t\t Média \t\t\t Desvio padrão\n",
      "tempo: \t\t 1.2223146200180053 \t 0.19198633627890108\n",
      "raio: \t\t 408.3333333333333 \t 18.17201756058535\n",
      "silhueta: \t 0.1914732386008193 \t 7.495632585334416e-05\n",
      "rand: \t\t 0.6783546496266367 \t 0.002849907211446475\n",
      "\n",
      "Teste refinamento com largura 1% feito:\n",
      "\t\t Média \t\t\t Desvio padrão\n",
      "tempo: \t\t 2.2172957181930544 \t 0.08339740190884619\n",
      "raio: \t\t 390.233333333333348 \t 25.846577250296715\n",
      "silhueta: \t 0.03842541396644875 \t 0.02076009023436945\n",
      "rand: \t\t 0.22398930507526324 \t 0.03934160864105827\n",
      "\n",
      "Teste refinamento com largura 5% feito:\n",
      "\t\t Média \t\t\t Desvio padrão\n",
      "tempo: \t\t 2.368815302848816 \t 0.6284068975830946\n",
      "raio: \t\t 385.266666666666652 \t 20.867731602218345\n",
      "silhueta: \t 0.032077332318306895 \t 0.022121377304399482\n",
      "rand: \t\t 0.207333509654612 \t 0.04210698610797083\n",
      "\n",
      "Teste refinamento com largura 10% feito:\n",
      "\t\t Média \t\t\t Desvio padrão\n",
      "tempo: \t\t 2.6012652079264322 \t 0.41805564962122566\n",
      "raio: \t\t 369.899999999999977 \t 22.092758994747577\n",
      "silhueta: \t 0.043792672608601355 \t 0.016408373215485182\n",
      "rand: \t\t 0.20435766576672157 \t 0.027054394623284503\n",
      "\n",
      "Teste refinamento com largura 15% feito:\n",
      "\t\t Média \t\t\t Desvio padrão\n",
      "tempo: \t\t 2.71557502746582 \t 0.8127027052007278\n",
      "raio: \t\t 385.633333333333326 \t 22.555831963276272\n",
      "silhueta: \t 0.0551300627733625 \t 0.019266673013402274\n",
      "rand: \t\t 0.15991473952008167 \t 0.041991229984977424\n",
      "\n",
      "Teste refinamento com largura 20% feito:\n",
      "\t\t Média \t\t\t Desvio padrão\n",
      "tempo: \t\t 2.5848906596501666 \t 0.6491081080763246\n",
      "raio: \t\t 381.000000000000000 \t 24.04994802489186\n",
      "silhueta: \t 0.057938361517669665 \t 0.018500008122647727\n",
      "rand: \t\t 0.1541259020154429 \t 0.042614364934465555\n",
      "\n"
     ]
    }
   ],
   "source": [
    "print(\"Teste Optical Recognition\")\n",
    "K, pontos, labels = dados_uci.dados_optical()\n",
    "E = experimento.experimento(K, pontos, labels, p)\n",
    "E.executar_testes()"
   ]
  },
  {
   "cell_type": "code",
   "execution_count": 3,
   "id": "c8541ff3",
   "metadata": {
    "scrolled": false
   },
   "outputs": [
    {
     "name": "stdout",
     "output_type": "stream",
     "text": [
      "Teste Abalone\n",
      "Tempo para calcular matriz de dist:  48.44477558135986\n",
      "Teste incremental feito:\n",
      "\t\t Média \t\t\t Desvio padrão\n",
      "tempo: \t\t 0.401375691095988 \t 0.019923240921951996\n",
      "raio: \t\t 5.1116166666666665 \t 0.12127074965638768\n",
      "silhueta: \t 0.004346564880771949 \t 0.12712007039460738\n",
      "rand: \t\t 0.013530677584586768 \t 0.0018782029894253548\n",
      "\n",
      "Teste kmeans feito:\n",
      "\t\t Média \t\t\t Desvio padrão\n",
      "tempo: \t\t 0.7026897589365642 \t 0.24824404956964577\n",
      "raio: \t\t 5.665533333333332 \t 0.5489952023672174\n",
      "silhueta: \t 0.30334859743886516 \t 0.006203029337657755\n",
      "rand: \t\t 0.011145781606333673 \t 0.0006920071879425684\n",
      "\n",
      "Teste refinamento com largura 1% feito:\n",
      "\t\t Média \t\t\t Desvio padrão\n",
      "tempo: \t\t 1.4985629876454671 \t 0.1325016060417456\n",
      "raio: \t\t 5.059166666666667 \t 0.46967739519329177\n",
      "silhueta: \t 0.05260258566721302 \t 0.08317688625979697\n",
      "rand: \t\t 0.018708443234210972 \t 0.0049602434349848\n",
      "\n",
      "Teste refinamento com largura 5% feito:\n",
      "\t\t Média \t\t\t Desvio padrão\n",
      "tempo: \t\t 1.4959762811660766 \t 0.14378043631128964\n",
      "raio: \t\t 6.254233333333332 \t 0.34733340690978104\n",
      "silhueta: \t 0.043116794943544014 \t 0.125649492821129\n",
      "rand: \t\t 0.01982450283330771 \t 0.004951842919497357\n",
      "\n",
      "Teste refinamento com largura 10% feito:\n",
      "\t\t Média \t\t\t Desvio padrão\n",
      "tempo: \t\t 1.528058616320292 \t 0.212401281277658\n",
      "raio: \t\t 6.278783333333332 \t 0.40636292652696004\n",
      "silhueta: \t 0.08641555291495887 \t 0.10646074931603576\n",
      "rand: \t\t 0.018360684254098595 \t 0.003863564449178622\n",
      "\n",
      "Teste refinamento com largura 15% feito:\n",
      "\t\t Média \t\t\t Desvio padrão\n",
      "tempo: \t\t 1.4353906869888307 \t 0.043583891944548925\n",
      "raio: \t\t 5.616316666666665 \t 0.1856654914684531\n",
      "silhueta: \t 0.2667152427908325 \t 0.11755963233809764\n",
      "rand: \t\t 0.017362361131323487 \t 0.005453764562143397\n",
      "\n",
      "Teste refinamento com largura 20% feito:\n",
      "\t\t Média \t\t\t Desvio padrão\n",
      "tempo: \t\t 1.5834361950556437 \t 0.24904528225452957\n",
      "raio: \t\t 5.605416666666667 \t 0.18211448246150613\n",
      "silhueta: \t 0.2332948517369284 \t 0.15728786888405846\n",
      "rand: \t\t 0.018020618600292408 \t 0.004290812872330629\n",
      "\n"
     ]
    }
   ],
   "source": [
    "print(\"Teste Abalone\")\n",
    "K, pontos, labels = dados_uci.dados_abalone()\n",
    "E = experimento.experimento(K, pontos, labels, p)\n",
    "E.executar_testes()"
   ]
  },
  {
   "cell_type": "code",
   "execution_count": 4,
   "id": "4a9a7afd",
   "metadata": {},
   "outputs": [
    {
     "name": "stdout",
     "output_type": "stream",
     "text": [
      "Teste Eletrical\n",
      "Tempo para calcular matriz de dist:  649.8358674049377\n",
      "Teste incremental feito:\n",
      "\t\t Média \t\t\t Desvio padrão\n",
      "tempo: \t\t 0.015559649467468262 \t 0.002499948370246319\n",
      "raio: \t\t 30.772843710851028 \t 2.532301237210533\n",
      "silhueta: \t 0.1341735872633856 \t 0.013871677686299533\n",
      "rand: \t\t 0.049534367368092844 \t 0.050942160094829714\n",
      "\n",
      "Teste kmeans feito:\n",
      "\t\t Média \t\t\t Desvio padrão\n",
      "tempo: \t\t 0.8908729473749797 \t 0.2510191599129655\n",
      "raio: \t\t 32.04456295120081 \t 2.244574508859209\n",
      "silhueta: \t 0.17406856616489497 \t 1.6907778867262052e-06\n",
      "rand: \t\t 0.03679733762815984 \t 0.003937757850978225\n",
      "\n",
      "Teste refinamento com largura 1% feito:\n",
      "\t\t Média \t\t\t Desvio padrão\n",
      "tempo: \t\t 17.96864224274953 \t 1.1487729360011045\n",
      "raio: \t\t 30.196521450126944 \t 2.6663551331955673\n",
      "silhueta: \t 0.14390783492080242 \t 0.018166669208135224\n",
      "rand: \t\t 0.04228384645460316 \t 0.04913782433533591\n",
      "\n",
      "Teste refinamento com largura 5% feito:\n",
      "\t\t Média \t\t\t Desvio padrão\n",
      "tempo: \t\t 19.185660894711813 \t 2.3285489215564925\n",
      "raio: \t\t 30.657286727505678 \t 2.639192434290756\n",
      "silhueta: \t 0.1039966194275423 \t 0.20638412962218014\n",
      "rand: \t\t 0.04233920480835552 \t 0.05423864245851773\n",
      "\n",
      "Teste refinamento com largura 10% feito:\n",
      "\t\t Média \t\t\t Desvio padrão\n",
      "tempo: \t\t 18.3779757976532 \t 1.156735468935014\n",
      "raio: \t\t 31.107685482599312 \t 2.2557429260967066\n",
      "silhueta: \t 0.030107975797536234 \t 0.3435892140464609\n",
      "rand: \t\t 0.03582131978684919 \t 0.05208322266049263\n",
      "\n",
      "Teste refinamento com largura 15% feito:\n",
      "\t\t Média \t\t\t Desvio padrão\n",
      "tempo: \t\t 18.16139014561971 \t 0.8228752824188899\n",
      "raio: \t\t 31.994894470319608 \t 2.4843598485039116\n",
      "silhueta: \t -0.35837387598689624 \t 0.5612554045014172\n",
      "rand: \t\t 0.02124749736464897 \t 0.039940887763661344\n",
      "\n",
      "Teste refinamento com largura 20% feito:\n",
      "\t\t Média \t\t\t Desvio padrão\n",
      "tempo: \t\t 17.53980144659678 \t 1.062087464421466\n",
      "raio: \t\t 32.186449095912458 \t 2.31685244405968\n",
      "silhueta: \t -0.46693803666413203 \t 0.5698861931438615\n",
      "rand: \t\t 0.014100318509185934 \t 0.024872294452015196\n",
      "\n"
     ]
    }
   ],
   "source": [
    "print(\"Teste Eletrical\")\n",
    "K, pontos, labels = dados_uci.dados_eletrical()\n",
    "E = experimento.experimento(K, pontos, labels, p)\n",
    "E.executar_testes()"
   ]
  },
  {
   "cell_type": "code",
   "execution_count": 5,
   "id": "d532cd89",
   "metadata": {},
   "outputs": [
    {
     "name": "stdout",
     "output_type": "stream",
     "text": [
      "Teste Rice\n",
      "Tempo para calcular matriz de dist:  84.04672574996948\n",
      "Teste incremental feito:\n",
      "\t\t Média \t\t\t Desvio padrão\n",
      "tempo: \t\t 0.006565380096435547 \t 0.0005021224498746341\n",
      "raio: \t\t 15433.146819492182 \t 550.7747430320995\n",
      "silhueta: \t 0.4811576949877287 \t 0.043097627146956516\n",
      "rand: \t\t 0.0420745036238868 \t 0.05327861577419421\n",
      "\n",
      "Teste kmeans feito:\n",
      "\t\t Média \t\t\t Desvio padrão\n",
      "tempo: \t\t 0.798050045967102 \t 0.23669149635663206\n",
      "raio: \t\t 15277.36419721047 \t 582.8851993913762\n",
      "silhueta: \t 0.6066244684455141 \t 1.1102230246251565e-16\n",
      "rand: \t\t 0.5772239079006811 \t 0.0\n",
      "\n",
      "Teste refinamento com largura 1% feito:\n",
      "\t\t Média \t\t\t Desvio padrão\n",
      "tempo: \t\t 2.772180962562561 \t 0.22692171481794032\n",
      "raio: \t\t 15433.146819492181749 \t 550.7747430320995\n",
      "silhueta: \t 0.5022708504666754 \t 0.06501720517613485\n",
      "rand: \t\t 0.20661903931740772 \t 0.23662861563213072\n",
      "\n",
      "Teste refinamento com largura 5% feito:\n",
      "\t\t Média \t\t\t Desvio padrão\n",
      "tempo: \t\t 2.647592035929362 \t 0.08386583251496696\n",
      "raio: \t\t 15433.146819492181749 \t 550.7747430320995\n",
      "silhueta: \t 0.4950137596264846 \t 0.054460353622210377\n",
      "rand: \t\t 0.1694389035356056 \t 0.20993571191562788\n",
      "\n",
      "Teste refinamento com largura 10% feito:\n",
      "\t\t Média \t\t\t Desvio padrão\n",
      "tempo: \t\t 2.7815577745437623 \t 0.1640087652984439\n",
      "raio: \t\t 15316.309852780897927 \t 578.9687931193642\n",
      "silhueta: \t 0.4910711359273037 \t 0.0718761518323513\n",
      "rand: \t\t 0.191894263300068 \t 0.2177271443876952\n",
      "\n",
      "Teste refinamento com largura 15% feito:\n",
      "\t\t Média \t\t\t Desvio padrão\n",
      "tempo: \t\t 2.725625991821289 \t 0.12190693147702487\n",
      "raio: \t\t 15472.092475062609083 \t 535.4142439234889\n",
      "silhueta: \t 0.4865808201413279 \t 0.0385103587885567\n",
      "rand: \t\t 0.08597719441713782 \t 0.1403745081536358\n",
      "\n",
      "Teste refinamento com largura 20% feito:\n",
      "\t\t Média \t\t\t Desvio padrão\n",
      "tempo: \t\t 2.6880138874053956 \t 0.08347482598124072\n",
      "raio: \t\t 15355.255508351325261 \t 572.3819030743732\n",
      "silhueta: \t 0.4878359658228549 \t 0.04047468865848748\n",
      "rand: \t\t 0.13347821904739873 \t 0.16713917514904195\n",
      "\n"
     ]
    }
   ],
   "source": [
    "print(\"Teste Rice\")\n",
    "K, pontos, labels = dados_uci.dados_rice()\n",
    "E = experimento.experimento(K, pontos, labels, p)\n",
    "E.executar_testes()"
   ]
  },
  {
   "cell_type": "code",
   "execution_count": 6,
   "id": "41d21c4a",
   "metadata": {},
   "outputs": [
    {
     "name": "stdout",
     "output_type": "stream",
     "text": [
      "Teste Yeast\n",
      "Tempo para calcular matriz de dist:  14.058335781097412\n",
      "Teste incremental feito:\n",
      "\t\t Média \t\t\t Desvio padrão\n",
      "tempo: \t\t 0.0904502789179484 \t 0.019713934447868904\n",
      "raio: \t\t 1.9766666666666663 \t 0.13719410418171113\n",
      "silhueta: \t 0.3367385198935046 \t 0.0015091794102930242\n",
      "rand: \t\t 0.04966441385490259 \t 0.011983678842277159\n",
      "\n",
      "Teste kmeans feito:\n",
      "\t\t Média \t\t\t Desvio padrão\n",
      "tempo: \t\t 0.7891148885091146 \t 0.23794909987990767\n",
      "raio: \t\t 2.160333333333334 \t 0.21361153734966865\n",
      "silhueta: \t 0.1752468221658291 \t 0.007580343037488771\n",
      "rand: \t\t 0.1416489290307618 \t 0.010290514393621435\n",
      "\n",
      "Teste refinamento com largura 1% feito:\n",
      "\t\t Média \t\t\t Desvio padrão\n",
      "tempo: \t\t 0.48828174273173014 \t 0.021584786084256652\n",
      "raio: \t\t 1.954000000000000 \t 0.16831716093930135\n",
      "silhueta: \t 0.13253126439247928 \t 0.060378505017259734\n",
      "rand: \t\t 0.05169670501089338 \t 0.03556519425890648\n",
      "\n",
      "Teste refinamento com largura 5% feito:\n",
      "\t\t Média \t\t\t Desvio padrão\n",
      "tempo: \t\t 0.5059047857920329 \t 0.044355683863104255\n",
      "raio: \t\t 2.071666666666667 \t 0.22322012055865886\n",
      "silhueta: \t 0.15853506515764465 \t 0.08454868203407087\n",
      "rand: \t\t 0.042397811835449224 \t 0.03684824775741056\n",
      "\n",
      "Teste refinamento com largura 10% feito:\n",
      "\t\t Média \t\t\t Desvio padrão\n",
      "tempo: \t\t 0.5138875166575114 \t 0.01919605432957457\n",
      "raio: \t\t 2.155333333333334 \t 0.28237957118428764\n",
      "silhueta: \t 0.1836937143878771 \t 0.07926149129872476\n",
      "rand: \t\t 0.040362934322126606 \t 0.02952572435822053\n",
      "\n",
      "Teste refinamento com largura 15% feito:\n",
      "\t\t Média \t\t\t Desvio padrão\n",
      "tempo: \t\t 0.5002010504404704 \t 0.01479997379085905\n",
      "raio: \t\t 2.278666666666667 \t 0.26866004954630346\n",
      "silhueta: \t 0.42838381559981453 \t 0.09820330379174631\n",
      "rand: \t\t 0.008939733821804607 \t 0.010838872053220051\n",
      "\n",
      "Teste refinamento com largura 20% feito:\n",
      "\t\t Média \t\t\t Desvio padrão\n",
      "tempo: \t\t 0.5054742097854614 \t 0.02635698578678033\n",
      "raio: \t\t 2.253000000000000 \t 0.24266781135261156\n",
      "silhueta: \t 0.3780607294471191 \t 0.09429256929439953\n",
      "rand: \t\t 0.006398382603026598 \t 0.01304801517634214\n",
      "\n"
     ]
    }
   ],
   "source": [
    "print(\"Teste Yeast\")\n",
    "K, pontos, labels = dados_uci.dados_yeast()\n",
    "E = experimento.experimento(K, pontos, labels, p)\n",
    "E.executar_testes()"
   ]
  },
  {
   "cell_type": "code",
   "execution_count": 7,
   "id": "a3ea51e1",
   "metadata": {},
   "outputs": [
    {
     "name": "stdout",
     "output_type": "stream",
     "text": [
      "Teste Banknote\n",
      "Tempo para calcular matriz de dist:  11.273562669754028\n",
      "Teste incremental feito:\n",
      "\t\t Média \t\t\t Desvio padrão\n",
      "tempo: \t\t 0.005868363380432129 \t 0.002188821027732719\n",
      "raio: \t\t 52.30142099999999 \t 0.2814629999999973\n",
      "silhueta: \t 0.44244154753238857 \t 0.07930014304792134\n",
      "rand: \t\t 0.09097802792592079 \t 0.032801813194567604\n",
      "\n",
      "Teste kmeans feito:\n",
      "\t\t Média \t\t\t Desvio padrão\n",
      "tempo: \t\t 0.11053493817647299 \t 0.013484207271498608\n",
      "raio: \t\t 52.55161033333333 \t 0.4521181542435025\n",
      "silhueta: \t 0.4322884268208396 \t 5.551115123125783e-17\n",
      "rand: \t\t 0.04853814205195779 \t 1.3877787807814457e-17\n",
      "\n",
      "Teste refinamento com largura 1% feito:\n",
      "\t\t Média \t\t\t Desvio padrão\n",
      "tempo: \t\t 0.4330572764078776 \t 0.01716944977773209\n",
      "raio: \t\t 52.241077333333330 \t 0.1684227400310154\n",
      "silhueta: \t 0.40991729468072413 \t 0.07151954564379459\n",
      "rand: \t\t 0.09021548020372304 \t 0.061942691845912036\n",
      "\n",
      "Teste refinamento com largura 5% feito:\n",
      "\t\t Média \t\t\t Desvio padrão\n",
      "tempo: \t\t 0.43317407766977944 \t 0.014831990709906755\n",
      "raio: \t\t 52.241077333333330 \t 0.16842274003101543\n",
      "silhueta: \t 0.4142326383609531 \t 0.08264745723168716\n",
      "rand: \t\t 0.10590344394529619 \t 0.08695262444587877\n",
      "\n",
      "Teste refinamento com largura 10% feito:\n",
      "\t\t Média \t\t\t Desvio padrão\n",
      "tempo: \t\t 0.42163116931915284 \t 0.017611995712587755\n",
      "raio: \t\t 52.270147333333320 \t 0.23403069178967642\n",
      "silhueta: \t 0.3477557454394436 \t 0.27529614947882364\n",
      "rand: \t\t 0.08950505439007636 \t 0.0793212592015996\n",
      "\n",
      "Teste refinamento com largura 15% feito:\n",
      "\t\t Média \t\t\t Desvio padrão\n",
      "tempo: \t\t 0.41451387405395507 \t 0.029353856519644672\n",
      "raio: \t\t 52.332694666666654 \t 0.31893007318985606\n",
      "silhueta: \t 0.2440585140475782 \t 0.4903798182184031\n",
      "rand: \t\t 0.07613049456780338 \t 0.03366027800892564\n",
      "\n",
      "Teste refinamento com largura 20% feito:\n",
      "\t\t Média \t\t\t Desvio padrão\n",
      "tempo: \t\t 0.42665186723073323 \t 0.019746568436181458\n",
      "raio: \t\t 52.241477666666661 \t 0.16835695088478428\n",
      "silhueta: \t 0.3636109754496711 \t 0.2693070370235397\n",
      "rand: \t\t 0.08002351491265412 \t 0.030126870313479808\n",
      "\n"
     ]
    }
   ],
   "source": [
    "print(\"Teste Banknote\")\n",
    "K, pontos, labels = dados_uci.dados_banknote()\n",
    "E = experimento.experimento(K, pontos, labels, p)\n",
    "E.executar_testes()"
   ]
  },
  {
   "cell_type": "code",
   "execution_count": 4,
   "id": "8f778b1e",
   "metadata": {},
   "outputs": [
    {
     "name": "stdout",
     "output_type": "stream",
     "text": [
      "Teste Online Shopping\n"
     ]
    },
    {
     "ename": "KeyboardInterrupt",
     "evalue": "",
     "output_type": "error",
     "traceback": [
      "\u001b[0;31m---------------------------------------------------------------------------\u001b[0m",
      "\u001b[0;31mKeyboardInterrupt\u001b[0m                         Traceback (most recent call last)",
      "Cell \u001b[0;32mIn[4], line 3\u001b[0m\n\u001b[1;32m      1\u001b[0m \u001b[38;5;28mprint\u001b[39m(\u001b[38;5;124m\"\u001b[39m\u001b[38;5;124mTeste Online Shopping\u001b[39m\u001b[38;5;124m\"\u001b[39m)\n\u001b[1;32m      2\u001b[0m K, pontos, labels \u001b[38;5;241m=\u001b[39m dados_uci\u001b[38;5;241m.\u001b[39mdados_shopping()\n\u001b[0;32m----> 3\u001b[0m E \u001b[38;5;241m=\u001b[39m \u001b[43mexperimento\u001b[49m\u001b[38;5;241;43m.\u001b[39;49m\u001b[43mexperimento\u001b[49m\u001b[43m(\u001b[49m\u001b[43mK\u001b[49m\u001b[43m,\u001b[49m\u001b[43m \u001b[49m\u001b[43mpontos\u001b[49m\u001b[43m,\u001b[49m\u001b[43m \u001b[49m\u001b[43mlabels\u001b[49m\u001b[43m,\u001b[49m\u001b[43m \u001b[49m\u001b[43mp\u001b[49m\u001b[43m)\u001b[49m\n\u001b[1;32m      4\u001b[0m E\u001b[38;5;241m.\u001b[39mexecutar_testes()\n",
      "File \u001b[0;32m~/ufmg/alg2/k-centros-aproximativo/experimento.py:25\u001b[0m, in \u001b[0;36mexperimento.__init__\u001b[0;34m(self, K, pontos, labels, p)\u001b[0m\n\u001b[1;32m     23\u001b[0m \u001b[38;5;66;03m# Calcula a matriz de distância usando norma p \u001b[39;00m\n\u001b[1;32m     24\u001b[0m t_inicial \u001b[38;5;241m=\u001b[39m time\u001b[38;5;241m.\u001b[39mtime()\n\u001b[0;32m---> 25\u001b[0m \u001b[38;5;28;43mself\u001b[39;49m\u001b[38;5;241;43m.\u001b[39;49m\u001b[43m_calcular_distancias\u001b[49m\u001b[43m(\u001b[49m\u001b[43m)\u001b[49m\n\u001b[1;32m     26\u001b[0m t_final \u001b[38;5;241m=\u001b[39m time\u001b[38;5;241m.\u001b[39mtime()\n\u001b[1;32m     27\u001b[0m \u001b[38;5;28mprint\u001b[39m(\u001b[38;5;124m\"\u001b[39m\u001b[38;5;124mTempo para calcular matriz de dist: \u001b[39m\u001b[38;5;124m\"\u001b[39m, t_final \u001b[38;5;241m-\u001b[39m t_inicial)\n",
      "File \u001b[0;32m~/ufmg/alg2/k-centros-aproximativo/experimento.py:34\u001b[0m, in \u001b[0;36mexperimento._calcular_distancias\u001b[0;34m(self)\u001b[0m\n\u001b[1;32m     32\u001b[0m \u001b[38;5;28;01mfor\u001b[39;00m i \u001b[38;5;129;01min\u001b[39;00m \u001b[38;5;28mrange\u001b[39m(\u001b[38;5;28mself\u001b[39m\u001b[38;5;241m.\u001b[39mN):\n\u001b[1;32m     33\u001b[0m     \u001b[38;5;28;01mfor\u001b[39;00m j \u001b[38;5;129;01min\u001b[39;00m \u001b[38;5;28mrange\u001b[39m(\u001b[38;5;28mself\u001b[39m\u001b[38;5;241m.\u001b[39mN):\n\u001b[0;32m---> 34\u001b[0m         \u001b[38;5;28mself\u001b[39m\u001b[38;5;241m.\u001b[39mdist_matrix[i][j] \u001b[38;5;241m=\u001b[39m np\u001b[38;5;241m.\u001b[39msum(\u001b[43mnp\u001b[49m\u001b[38;5;241;43m.\u001b[39;49m\u001b[43mabs\u001b[49m\u001b[43m(\u001b[49m\u001b[38;5;28;43mself\u001b[39;49m\u001b[38;5;241;43m.\u001b[39;49m\u001b[43mpontos\u001b[49m\u001b[43m[\u001b[49m\u001b[43mi\u001b[49m\u001b[43m]\u001b[49m\u001b[43m \u001b[49m\u001b[38;5;241;43m-\u001b[39;49m\u001b[43m \u001b[49m\u001b[38;5;28;43mself\u001b[39;49m\u001b[38;5;241;43m.\u001b[39;49m\u001b[43mpontos\u001b[49m\u001b[43m[\u001b[49m\u001b[43mj\u001b[49m\u001b[43m]\u001b[49m\u001b[43m)\u001b[49m\u001b[43m \u001b[49m\u001b[38;5;241;43m*\u001b[39;49m\u001b[38;5;241;43m*\u001b[39;49m\u001b[43m \u001b[49m\u001b[38;5;28;43mself\u001b[39;49m\u001b[38;5;241;43m.\u001b[39;49m\u001b[43mp\u001b[49m) \u001b[38;5;241m*\u001b[39m\u001b[38;5;241m*\u001b[39m (\u001b[38;5;241m1\u001b[39m \u001b[38;5;241m/\u001b[39m \u001b[38;5;28mself\u001b[39m\u001b[38;5;241m.\u001b[39mp)\n\u001b[1;32m     36\u001b[0m \u001b[38;5;250m\u001b[39m\u001b[38;5;124;03m\"\"\"\u001b[39;00m\n\u001b[1;32m     37\u001b[0m \u001b[38;5;124;03m# Salvando na memória\u001b[39;00m\n\u001b[1;32m     38\u001b[0m \u001b[38;5;124;03mnp.save('test_dist.npy', self.dist_matrix)\u001b[39;00m\n\u001b[0;32m   (...)\u001b[0m\n\u001b[1;32m     41\u001b[0m \u001b[38;5;124;03mself.dist_matrix = np.load('test_dist.npy')\u001b[39;00m\n\u001b[1;32m     42\u001b[0m \u001b[38;5;124;03m\"\"\"\u001b[39;00m\n",
      "\u001b[0;31mKeyboardInterrupt\u001b[0m: "
     ]
    }
   ],
   "source": [
    "print(\"Teste Online Shopping\")\n",
    "K, pontos, labels = dados_uci.dados_shopping()\n",
    "E = experimento.experimento(K, pontos, labels, p)\n",
    "E.executar_testes()"
   ]
  },
  {
   "cell_type": "code",
   "execution_count": 5,
   "id": "97cf1b66",
   "metadata": {},
   "outputs": [
    {
     "name": "stdout",
     "output_type": "stream",
     "text": [
      "Teste Raisin\n",
      "Tempo para calcular matriz de dist:  4.370297431945801\n",
      "Teste incremental feito:\n",
      "\t\t Média \t\t\t Desvio padrão\n",
      "tempo: \t\t 0.0018976767857869466 \t 0.00018378277442682544\n",
      "raio: \t\t 335848.00417902705 \t 6042.280649429494\n",
      "silhueta: \t 0.6137566431909108 \t 0.09563395854754474\n",
      "rand: \t\t 0.021795909782596802 \t 0.022523752638687795\n",
      "\n",
      "Teste kmeans feito:\n",
      "\t\t Média \t\t\t Desvio padrão\n",
      "tempo: \t\t 0.08900238672892252 \t 0.053822738764116584\n",
      "raio: \t\t 326158.7995969274 \t 12084.561298858986\n",
      "silhueta: \t 0.6541449147629984 \t 9.550472166174688e-05\n",
      "rand: \t\t 0.1665121642956365 \t 0.00032513785471115865\n",
      "\n",
      "Teste refinamento com largura 1% feito:\n",
      "\t\t Média \t\t\t Desvio padrão\n",
      "tempo: \t\t 0.18287695248921712 \t 0.0033535185090069284\n",
      "raio: \t\t 334233.136748677119613 \t 8234.240539219762\n",
      "silhueta: \t 0.632690574486714 \t 0.06027873846474827\n",
      "rand: \t\t 0.10107489556275161 \t 0.11220987852549803\n",
      "\n",
      "Teste refinamento com largura 5% feito:\n",
      "\t\t Média \t\t\t Desvio padrão\n",
      "tempo: \t\t 0.18708593050638836 \t 0.005854132888393818\n",
      "raio: \t\t 335040.570463852083776 \t 7266.903436574713\n",
      "silhueta: \t 0.6401888988570136 \t 0.04905953249745049\n",
      "rand: \t\t 0.09040662996166286 \t 0.10018234006818026\n",
      "\n",
      "Teste refinamento com largura 10% feito:\n",
      "\t\t Média \t\t\t Desvio padrão\n",
      "tempo: \t\t 0.1929437478383382 \t 0.007728397075280003\n",
      "raio: \t\t 331810.835603152227122 \t 10245.185303770815\n",
      "silhueta: \t 0.5930252952540686 \t 0.11212200717919642\n",
      "rand: \t\t 0.10499552005367449 \t 0.09870635712816825\n",
      "\n",
      "Teste refinamento com largura 15% feito:\n",
      "\t\t Média \t\t\t Desvio padrão\n",
      "tempo: \t\t 0.2001481850941976 \t 0.005435958249275005\n",
      "raio: \t\t 335040.570463852083776 \t 7266.903436574713\n",
      "silhueta: \t 0.6306114876530734 \t 0.06252905350829603\n",
      "rand: \t\t 0.06744444462865366 \t 0.09735665444889224\n",
      "\n",
      "Teste refinamento com largura 20% feito:\n",
      "\t\t Média \t\t\t Desvio padrão\n",
      "tempo: \t\t 0.2073032299677531 \t 0.014702986376147715\n",
      "raio: \t\t 333425.703033502155449 \t 9027.38337228216\n",
      "silhueta: \t 0.6097730833461239 \t 0.10090774067742138\n",
      "rand: \t\t 0.08458326476960602 \t 0.1018715278278268\n",
      "\n"
     ]
    }
   ],
   "source": [
    "print(\"Teste Raisin\")\n",
    "K, pontos, labels = dados_uci.dados_raisin()\n",
    "E = experimento.experimento(K, pontos, labels, p)\n",
    "E.executar_testes()"
   ]
  },
  {
   "cell_type": "code",
   "execution_count": 6,
   "id": "2cf41d4c",
   "metadata": {},
   "outputs": [
    {
     "name": "stdout",
     "output_type": "stream",
     "text": [
      "Teste Red Wine\n",
      "Tempo para calcular matriz de dist:  14.997286081314087\n",
      "Teste incremental feito:\n",
      "\t\t Média \t\t\t Desvio padrão\n",
      "tempo: \t\t 0.03337476253509521 \t 0.013282022337271528\n",
      "raio: \t\t 244.47163999999992 \t 5.684341886080802e-14\n",
      "silhueta: \t -0.016770045375694768 \t 0.0\n",
      "rand: \t\t 0.03722099179932535 \t 0.0\n",
      "\n",
      "Teste kmeans feito:\n",
      "\t\t Média \t\t\t Desvio padrão\n",
      "tempo: \t\t 0.7455807447433471 \t 0.36994155963048275\n",
      "raio: \t\t 284.00010000000003 \t 8.736429856663426\n",
      "silhueta: \t 0.44707005276240797 \t 0.0027374507566324657\n",
      "rand: \t\t -0.004814107150196867 \t 0.001283145584880936\n",
      "\n",
      "Teste refinamento com largura 1% feito:\n",
      "\t\t Média \t\t\t Desvio padrão\n",
      "tempo: \t\t 0.47123928864796955 \t 0.0134941658245073\n",
      "raio: \t\t 287.137240000000020 \t 3.511642328028311\n",
      "silhueta: \t 0.4025621951591257 \t 0.07220704353691657\n",
      "rand: \t\t -0.011694779363016805 \t 0.014628878163580746\n",
      "\n",
      "Teste refinamento com largura 5% feito:\n",
      "\t\t Média \t\t\t Desvio padrão\n",
      "tempo: \t\t 0.4765984773635864 \t 0.05619772321222952\n",
      "raio: \t\t 285.903060000000039 \t 8.776157149208311\n",
      "silhueta: \t 0.4057154804936409 \t 0.0840103953744503\n",
      "rand: \t\t -0.00789533158495848 \t 0.016090797927807574\n",
      "\n",
      "Teste refinamento com largura 10% feito:\n",
      "\t\t Média \t\t\t Desvio padrão\n",
      "tempo: \t\t 0.49643897215525307 \t 0.06885711233663092\n",
      "raio: \t\t 269.662759999999935 \t 12.92553900963516\n",
      "silhueta: \t 0.4564489849063491 \t 0.106287547717527\n",
      "rand: \t\t -0.004189768522601 \t 0.017386805860136252\n",
      "\n",
      "Teste refinamento com largura 15% feito:\n",
      "\t\t Média \t\t\t Desvio padrão\n",
      "tempo: \t\t 0.45933969020843507 \t 0.013950161197703547\n",
      "raio: \t\t 271.351079999999968 \t 14.146777776384292\n",
      "silhueta: \t 0.41171717317707945 \t 0.13300916807276755\n",
      "rand: \t\t -0.001190559757848375 \t 0.01769899018139779\n",
      "\n",
      "Teste refinamento com largura 20% feito:\n",
      "\t\t Média \t\t\t Desvio padrão\n",
      "tempo: \t\t 0.47694384256998695 \t 0.03373670721690821\n",
      "raio: \t\t 276.496213333333287 \t 15.401060914082814\n",
      "silhueta: \t 0.4704808878194059 \t 0.09742766983786032\n",
      "rand: \t\t -0.011571231700067323 \t 0.014527236947215182\n",
      "\n"
     ]
    }
   ],
   "source": [
    "print(\"Teste Red Wine\")\n",
    "K, pontos, labels = dados_uci.dados_wine_red()\n",
    "E = experimento.experimento(K, pontos, labels, p)\n",
    "E.executar_testes()"
   ]
  },
  {
   "cell_type": "code",
   "execution_count": 7,
   "id": "41eef280",
   "metadata": {},
   "outputs": [
    {
     "name": "stdout",
     "output_type": "stream",
     "text": [
      "Teste White Wine\n",
      "Tempo para calcular matriz de dist:  134.09349131584167\n",
      "Teste incremental feito:\n",
      "\t\t Média \t\t\t Desvio padrão\n",
      "tempo: \t\t 0.05885035991668701 \t 0.002933673221149101\n",
      "raio: \t\t 585.92286 \t 0.0\n",
      "silhueta: \t 0.0794929198504968 \t 0.0\n",
      "rand: \t\t 0.0208699140312267 \t 6.938893903907228e-18\n",
      "\n",
      "Teste kmeans feito:\n",
      "\t\t Média \t\t\t Desvio padrão\n",
      "tempo: \t\t 1.106020712852478 \t 0.2612832222884698\n",
      "raio: \t\t 555.4594466666665 \t 45.35883260017999\n",
      "silhueta: \t 0.3176115765221111 \t 0.00014402135484667836\n",
      "rand: \t\t 0.009420824856845037 \t 0.00017575466991920043\n",
      "\n",
      "Teste refinamento com largura 1% feito:\n",
      "\t\t Média \t\t\t Desvio padrão\n",
      "tempo: \t\t 4.104093400637309 \t 0.4123885034901356\n",
      "raio: \t\t 569.968403333333185 \t 34.41358890060416\n",
      "silhueta: \t 0.2559095939597725 \t 0.098008579825339\n",
      "rand: \t\t 0.010674685834262157 \t 0.007502023013710859\n",
      "\n",
      "Teste refinamento com largura 5% feito:\n",
      "\t\t Média \t\t\t Desvio padrão\n",
      "tempo: \t\t 4.551070388158163 \t 0.539696736289965\n",
      "raio: \t\t 561.564866666666489 \t 48.833820807748424\n",
      "silhueta: \t 0.26085379604992603 \t 0.10502299562437664\n",
      "rand: \t\t 0.010392677509522504 \t 0.004591347398417745\n",
      "\n",
      "Teste refinamento com largura 10% feito:\n",
      "\t\t Média \t\t\t Desvio padrão\n",
      "tempo: \t\t 4.390637175242106 \t 0.539772662992294\n",
      "raio: \t\t 542.422343333333174 \t 50.623730593909364\n",
      "silhueta: \t 0.4104254464752645 \t 0.07954356181879446\n",
      "rand: \t\t 0.004531538734277534 \t 0.009816436026106884\n",
      "\n",
      "Teste refinamento com largura 15% feito:\n",
      "\t\t Média \t\t\t Desvio padrão\n",
      "tempo: \t\t 4.388123591740926 \t 0.3676202003063791\n",
      "raio: \t\t 528.415476666666564 \t 44.431803449684374\n",
      "silhueta: \t 0.37991823198425945 \t 0.08332971190440464\n",
      "rand: \t\t 0.005026155089554728 \t 0.010552330784899425\n",
      "\n",
      "Teste refinamento com largura 20% feito:\n",
      "\t\t Média \t\t\t Desvio padrão\n",
      "tempo: \t\t 4.369480729103088 \t 0.6096855181303078\n",
      "raio: \t\t 552.927493333333132 \t 52.408896128890966\n",
      "silhueta: \t 0.4030928999343175 \t 0.09234187573136758\n",
      "rand: \t\t 0.0035056434912836814 \t 0.009507398014919597\n",
      "\n"
     ]
    }
   ],
   "source": [
    "print(\"Teste White Wine\")\n",
    "K, pontos, labels = dados_uci.dados_wine_white()\n",
    "E = experimento.experimento(K, pontos, labels, p)\n",
    "E.executar_testes()"
   ]
  },
  {
   "cell_type": "markdown",
   "id": "6a26bfeb",
   "metadata": {},
   "source": [
    "# Agora com p=2"
   ]
  },
  {
   "cell_type": "code",
   "execution_count": 8,
   "id": "67dd2579",
   "metadata": {},
   "outputs": [
    {
     "name": "stdout",
     "output_type": "stream",
     "text": [
      "Testes com p = 2\n"
     ]
    }
   ],
   "source": [
    "# Norma de minkowski\n",
    "p = 2\n",
    "print(f\"Testes com p = {p}\")"
   ]
  },
  {
   "cell_type": "code",
   "execution_count": 9,
   "id": "cb9ba4be",
   "metadata": {},
   "outputs": [
    {
     "name": "stdout",
     "output_type": "stream",
     "text": [
      "Teste Optical Recognition\n",
      "Tempo para calcular matriz de dist:  127.82989478111267\n",
      "Teste incremental feito:\n",
      "\t\t Média \t\t\t Desvio padrão\n",
      "tempo: \t\t 0.10867774486541748 \t 0.006633558093355266\n",
      "raio: \t\t 69.61342500006734 \t 2.6778834477997076\n",
      "silhueta: \t 0.03904833226017936 \t 0.014035120924692822\n",
      "rand: \t\t 0.22038758690282875 \t 0.02221088246448894\n",
      "\n",
      "Teste kmeans feito:\n",
      "\t\t Média \t\t\t Desvio padrão\n",
      "tempo: \t\t 1.3581252892812092 \t 0.21253511273065262\n",
      "raio: \t\t 69.40514297895858 \t 1.8866534932653547\n",
      "silhueta: \t 0.19068496622514877 \t 0.0023524763134168927\n",
      "rand: \t\t 0.6785910998608825 \t 0.0025245582384383096\n",
      "\n",
      "Teste refinamento com largura 1% feito:\n",
      "\t\t Média \t\t\t Desvio padrão\n",
      "tempo: \t\t 2.6195170720418295 \t 0.3192754502737621\n",
      "raio: \t\t 65.602298319148105 \t 3.230859830679483\n",
      "silhueta: \t 0.050741687206518435 \t 0.026151117338601162\n",
      "rand: \t\t 0.2467485279041965 \t 0.051338057228787266\n",
      "\n",
      "Teste refinamento com largura 5% feito:\n",
      "\t\t Média \t\t\t Desvio padrão\n",
      "tempo: \t\t 2.5887399514516196 \t 0.1940343436961753\n",
      "raio: \t\t 64.085898488394164 \t 2.9884692182741457\n",
      "silhueta: \t 0.056836893329078694 \t 0.02226534513808834\n",
      "rand: \t\t 0.20232129142419505 \t 0.0504631303979483\n",
      "\n",
      "Teste refinamento com largura 10% feito:\n",
      "\t\t Média \t\t\t Desvio padrão\n",
      "tempo: \t\t 2.7424575964609783 \t 0.1902942033732811\n",
      "raio: \t\t 67.998663950113425 \t 2.24685728656997\n",
      "silhueta: \t 0.06868824637952324 \t 0.017347049396472778\n",
      "rand: \t\t 0.14198851989623237 \t 0.056178974271169725\n",
      "\n",
      "Teste refinamento com largura 15% feito:\n",
      "\t\t Média \t\t\t Desvio padrão\n",
      "tempo: \t\t 2.5708346128463746 \t 0.2770329504539789\n",
      "raio: \t\t 67.180833025646592 \t 2.1453066556693208\n",
      "silhueta: \t 0.07137894315610925 \t 0.0162869946113525\n",
      "rand: \t\t 0.1304572893771186 \t 0.029481258995663465\n",
      "\n",
      "Teste refinamento com largura 20% feito:\n",
      "\t\t Média \t\t\t Desvio padrão\n",
      "tempo: \t\t 2.6548109531402586 \t 0.277844873715908\n",
      "raio: \t\t 67.950899978146737 \t 2.0916960008328513\n",
      "silhueta: \t 0.06629661765654718 \t 0.014630153786953756\n",
      "rand: \t\t 0.11769507360078173 \t 0.032727057673447954\n",
      "\n"
     ]
    }
   ],
   "source": [
    "print(\"Teste Optical Recognition\")\n",
    "K, pontos, labels = dados_uci.dados_optical()\n",
    "E = experimento.experimento(K, pontos, labels, p)\n",
    "E.executar_testes()"
   ]
  },
  {
   "cell_type": "code",
   "execution_count": 10,
   "id": "3fb5a7fe",
   "metadata": {},
   "outputs": [
    {
     "name": "stdout",
     "output_type": "stream",
     "text": [
      "Teste Abalone\n",
      "Tempo para calcular matriz de dist:  52.08707046508789\n",
      "Teste incremental feito:\n",
      "\t\t Média \t\t\t Desvio padrão\n",
      "tempo: \t\t 0.42811145782470705 \t 0.025156543310984866\n",
      "raio: \t\t 2.8508966817743175 \t 0.1934680245282022\n",
      "silhueta: \t 0.02597320120799795 \t 0.037399062925845314\n",
      "rand: \t\t 0.013354451298002857 \t 0.00027704565554716637\n",
      "\n",
      "Teste kmeans feito:\n",
      "\t\t Média \t\t\t Desvio padrão\n",
      "tempo: \t\t 0.8352539618810018 \t 0.2893176952726347\n",
      "raio: \t\t 2.7709599446083923 \t 0.20812991225638847\n",
      "silhueta: \t 0.30627891446124605 \t 0.006668466602335958\n",
      "rand: \t\t 0.011223966349295095 \t 0.0008255515028886476\n",
      "\n",
      "Teste refinamento com largura 1% feito:\n",
      "\t\t Média \t\t\t Desvio padrão\n",
      "tempo: \t\t 1.5037824471791585 \t 0.12763496992684062\n",
      "raio: \t\t 2.372407385686101 \t 0.09236772348629717\n",
      "silhueta: \t 0.14256237482919293 \t 0.11025228402364834\n",
      "rand: \t\t 0.016476111755343244 \t 0.0036266139489403914\n",
      "\n",
      "Teste refinamento com largura 5% feito:\n",
      "\t\t Média \t\t\t Desvio padrão\n",
      "tempo: \t\t 1.4764381647109985 \t 0.15353568901818002\n",
      "raio: \t\t 2.584045511455806 \t 0.3007203901607458\n",
      "silhueta: \t 0.10444266898408074 \t 0.11592862369295623\n",
      "rand: \t\t 0.016931457212311336 \t 0.003025345071178351\n",
      "\n",
      "Teste refinamento com largura 10% feito:\n",
      "\t\t Média \t\t\t Desvio padrão\n",
      "tempo: \t\t 1.4683564901351929 \t 0.11608663479212024\n",
      "raio: \t\t 2.596525791421897 \t 0.30755317612984506\n",
      "silhueta: \t 0.09178458286441672 \t 0.1203919956472549\n",
      "rand: \t\t 0.016221343260062353 \t 0.004422305676054725\n",
      "\n",
      "Teste refinamento com largura 15% feito:\n",
      "\t\t Média \t\t\t Desvio padrão\n",
      "tempo: \t\t 1.6384334087371826 \t 0.37304475892615035\n",
      "raio: \t\t 2.600844172221341 \t 0.09781355643409924\n",
      "silhueta: \t 0.23519418443085666 \t 0.12225126279510816\n",
      "rand: \t\t 0.01625281557553273 \t 0.005019270742540489\n",
      "\n",
      "Teste refinamento com largura 20% feito:\n",
      "\t\t Média \t\t\t Desvio padrão\n",
      "tempo: \t\t 1.411523493131002 \t 0.09507865222387273\n",
      "raio: \t\t 2.594838748047705 \t 0.11770257699056778\n",
      "silhueta: \t 0.2513390437994801 \t 0.10531606561623819\n",
      "rand: \t\t 0.016015806445043437 \t 0.004110835879106314\n",
      "\n"
     ]
    }
   ],
   "source": [
    "print(\"Teste Abalone\")\n",
    "K, pontos, labels = dados_uci.dados_abalone()\n",
    "E = experimento.experimento(K, pontos, labels, p)\n",
    "E.executar_testes()"
   ]
  },
  {
   "cell_type": "code",
   "execution_count": 11,
   "id": "c4748811",
   "metadata": {},
   "outputs": [
    {
     "name": "stdout",
     "output_type": "stream",
     "text": [
      "Teste Eletrical\n",
      "Tempo para calcular matriz de dist:  613.7832734584808\n",
      "Teste incremental feito:\n",
      "\t\t Média \t\t\t Desvio padrão\n",
      "tempo: \t\t 0.01563294728597005 \t 0.004296000502270689\n",
      "raio: \t\t 13.852050383368184 \t 1.1439443307207002\n",
      "silhueta: \t 0.13972574364093668 \t 0.01565161561776367\n",
      "rand: \t\t 0.03299628753245271 \t 0.04963161213557894\n",
      "\n",
      "Teste kmeans feito:\n",
      "\t\t Média \t\t\t Desvio padrão\n",
      "tempo: \t\t 0.870727022488912 \t 0.25479918361971354\n",
      "raio: \t\t 14.345949953200703 \t 0.8156361732003216\n",
      "silhueta: \t 0.17406775557274815 \t 2.4127550872328293e-06\n",
      "rand: \t\t 0.03615247902932808 \t 0.0038566075674845938\n",
      "\n"
     ]
    },
    {
     "ename": "KeyboardInterrupt",
     "evalue": "",
     "output_type": "error",
     "traceback": [
      "\u001b[0;31m---------------------------------------------------------------------------\u001b[0m",
      "\u001b[0;31mKeyboardInterrupt\u001b[0m                         Traceback (most recent call last)",
      "Cell \u001b[0;32mIn[11], line 4\u001b[0m\n\u001b[1;32m      2\u001b[0m K, pontos, labels \u001b[38;5;241m=\u001b[39m dados_uci\u001b[38;5;241m.\u001b[39mdados_eletrical()\n\u001b[1;32m      3\u001b[0m E \u001b[38;5;241m=\u001b[39m experimento\u001b[38;5;241m.\u001b[39mexperimento(K, pontos, labels, p)\n\u001b[0;32m----> 4\u001b[0m \u001b[43mE\u001b[49m\u001b[38;5;241;43m.\u001b[39;49m\u001b[43mexecutar_testes\u001b[49m\u001b[43m(\u001b[49m\u001b[43m)\u001b[49m\n",
      "File \u001b[0;32m~/ufmg/alg2/k-centros-aproximativo/experimento.py:244\u001b[0m, in \u001b[0;36mexperimento.executar_testes\u001b[0;34m(self)\u001b[0m\n\u001b[1;32m    242\u001b[0m \u001b[38;5;28mprint\u001b[39m()\n\u001b[1;32m    243\u001b[0m \u001b[38;5;28;01mfor\u001b[39;00m largura \u001b[38;5;129;01min\u001b[39;00m [ \u001b[38;5;241m0.01\u001b[39m, \u001b[38;5;241m0.05\u001b[39m, \u001b[38;5;241m0.10\u001b[39m, \u001b[38;5;241m0.15\u001b[39m, \u001b[38;5;241m0.20\u001b[39m ]:\n\u001b[0;32m--> 244\u001b[0m     \u001b[38;5;28;43mself\u001b[39;49m\u001b[38;5;241;43m.\u001b[39;49m\u001b[43mteste_refinamento\u001b[49m\u001b[43m(\u001b[49m\u001b[43mlargura\u001b[49m\u001b[43m)\u001b[49m\n\u001b[1;32m    245\u001b[0m     \u001b[38;5;28mprint\u001b[39m()\n",
      "File \u001b[0;32m~/ufmg/alg2/k-centros-aproximativo/experimento.py:208\u001b[0m, in \u001b[0;36mexperimento.teste_refinamento\u001b[0;34m(self, largura)\u001b[0m\n\u001b[1;32m    206\u001b[0m \u001b[38;5;28;01mfor\u001b[39;00m i \u001b[38;5;129;01min\u001b[39;00m \u001b[38;5;28mrange\u001b[39m(NUM_IT):\n\u001b[1;32m    207\u001b[0m     inicial \u001b[38;5;241m=\u001b[39m time\u001b[38;5;241m.\u001b[39mtime()\n\u001b[0;32m--> 208\u001b[0m     centros \u001b[38;5;241m=\u001b[39m \u001b[38;5;28;43mself\u001b[39;49m\u001b[38;5;241;43m.\u001b[39;49m\u001b[43maprox_refinamento\u001b[49m\u001b[43m(\u001b[49m\u001b[43mlargura\u001b[49m\u001b[43m)\u001b[49m\n\u001b[1;32m    209\u001b[0m     resposta \u001b[38;5;241m=\u001b[39m \u001b[38;5;28mself\u001b[39m\u001b[38;5;241m.\u001b[39m_calcular_particao(centros)\n\u001b[1;32m    210\u001b[0m     final \u001b[38;5;241m=\u001b[39m time\u001b[38;5;241m.\u001b[39mtime()\n",
      "File \u001b[0;32m~/ufmg/alg2/k-centros-aproximativo/experimento.py:69\u001b[0m, in \u001b[0;36mexperimento.aprox_refinamento\u001b[0;34m(self, largura)\u001b[0m\n\u001b[1;32m     67\u001b[0m \u001b[38;5;28;01mfor\u001b[39;00m i \u001b[38;5;129;01min\u001b[39;00m \u001b[38;5;28mrange\u001b[39m(\u001b[38;5;28mlen\u001b[39m(\u001b[38;5;28mself\u001b[39m\u001b[38;5;241m.\u001b[39mpontos)):\n\u001b[1;32m     68\u001b[0m     \u001b[38;5;28;01mfor\u001b[39;00m j \u001b[38;5;129;01min\u001b[39;00m \u001b[38;5;28mrange\u001b[39m(i\u001b[38;5;241m+\u001b[39m\u001b[38;5;241m1\u001b[39m, \u001b[38;5;28mlen\u001b[39m(\u001b[38;5;28mself\u001b[39m\u001b[38;5;241m.\u001b[39mpontos)):\n\u001b[0;32m---> 69\u001b[0m         hi \u001b[38;5;241m=\u001b[39m \u001b[38;5;28mmax\u001b[39m(hi, \u001b[38;5;28;43mself\u001b[39;49m\u001b[38;5;241;43m.\u001b[39;49m\u001b[43mdist_matrix\u001b[49m[i][j])\n\u001b[1;32m     71\u001b[0m largura_final \u001b[38;5;241m=\u001b[39m largura\u001b[38;5;241m*\u001b[39m(hi \u001b[38;5;241m-\u001b[39m lo)\n\u001b[1;32m     73\u001b[0m ultima_solucao \u001b[38;5;241m=\u001b[39m \u001b[38;5;28;01mNone\u001b[39;00m\n",
      "\u001b[0;31mKeyboardInterrupt\u001b[0m: "
     ]
    }
   ],
   "source": [
    "print(\"Teste Eletrical\")\n",
    "K, pontos, labels = dados_uci.dados_eletrical()\n",
    "E = experimento.experimento(K, pontos, labels, p)\n",
    "E.executar_testes()"
   ]
  },
  {
   "cell_type": "code",
   "execution_count": null,
   "id": "7492c467",
   "metadata": {},
   "outputs": [],
   "source": [
    "print(\"Teste Rice\")\n",
    "K, pontos, labels = dados_uci.dados_rice()\n",
    "E = experimento.experimento(K, pontos, labels, p)\n",
    "E.executar_testes()"
   ]
  },
  {
   "cell_type": "code",
   "execution_count": null,
   "id": "d04ea612",
   "metadata": {},
   "outputs": [],
   "source": [
    "print(\"Teste Yeast\")\n",
    "K, pontos, labels = dados_uci.dados_yeast()\n",
    "E = experimento.experimento(K, pontos, labels, p)\n",
    "E.executar_testes()"
   ]
  },
  {
   "cell_type": "code",
   "execution_count": null,
   "id": "3bf85691",
   "metadata": {},
   "outputs": [],
   "source": [
    "print(\"Teste Banknote\")\n",
    "K, pontos, labels = dados_uci.dados_banknote()\n",
    "E = experimento.experimento(K, pontos, labels, p)\n",
    "E.executar_testes()"
   ]
  },
  {
   "cell_type": "code",
   "execution_count": null,
   "id": "26109f32",
   "metadata": {},
   "outputs": [],
   "source": [
    "print(\"Teste Online Shopping\")\n",
    "K, pontos, labels = dados_uci.dados_shopping()\n",
    "E = experimento.experimento(K, pontos, labels, p)\n",
    "E.executar_testes()"
   ]
  },
  {
   "cell_type": "code",
   "execution_count": null,
   "id": "3fcf6235",
   "metadata": {},
   "outputs": [],
   "source": [
    "print(\"Teste Raisin\")\n",
    "K, pontos, labels = dados_uci.dados_raisin()\n",
    "E = experimento.experimento(K, pontos, labels, p)\n",
    "E.executar_testes()"
   ]
  },
  {
   "cell_type": "code",
   "execution_count": null,
   "id": "eb59a4f4",
   "metadata": {},
   "outputs": [],
   "source": [
    "print(\"Teste Red Wine\")\n",
    "K, pontos, labels = dados_uci.dados_wine_red()\n",
    "E = experimento.experimento(K, pontos, labels, p)\n",
    "E.executar_testes()"
   ]
  },
  {
   "cell_type": "code",
   "execution_count": null,
   "id": "9b0bb11b",
   "metadata": {},
   "outputs": [],
   "source": [
    "print(\"Teste White Wine\")\n",
    "K, pontos, labels = dados_uci.dados_wine_white()\n",
    "E = experimento.experimento(K, pontos, labels, p)\n",
    "E.executar_testes()"
   ]
  }
 ],
 "metadata": {
  "kernelspec": {
   "display_name": "Python 3 (ipykernel)",
   "language": "python",
   "name": "python3"
  },
  "language_info": {
   "codemirror_mode": {
    "name": "ipython",
    "version": 3
   },
   "file_extension": ".py",
   "mimetype": "text/x-python",
   "name": "python",
   "nbconvert_exporter": "python",
   "pygments_lexer": "ipython3",
   "version": "3.8.10"
  }
 },
 "nbformat": 4,
 "nbformat_minor": 5
}
