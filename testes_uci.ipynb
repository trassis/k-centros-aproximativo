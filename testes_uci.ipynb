{
 "cells": [
  {
   "cell_type": "code",
   "execution_count": 1,
   "id": "0ac863a6",
   "metadata": {},
   "outputs": [],
   "source": [
    "import dados_uci\n",
    "import experimento"
   ]
  },
  {
   "cell_type": "markdown",
   "id": "255c6ca5",
   "metadata": {},
   "source": [
    "# Experimentos com p=1"
   ]
  },
  {
   "cell_type": "code",
   "execution_count": 2,
   "id": "fb0c2946",
   "metadata": {},
   "outputs": [
    {
     "name": "stdout",
     "output_type": "stream",
     "text": [
      "Testes com p = 1\n"
     ]
    }
   ],
   "source": [
    "# Norma de minkowski\n",
    "p = 1\n",
    "print(f\"Testes com p = {p}\")"
   ]
  },
  {
   "cell_type": "code",
   "execution_count": 3,
   "id": "34336695",
   "metadata": {},
   "outputs": [
    {
     "name": "stdout",
     "output_type": "stream",
     "text": [
      "Teste Optical Recognition\n",
      "Tempo para calcular matriz de dist:  122.45956659317017\n",
      "Teste incremental feito:\n",
      "\t\t Média \t\t\t Desvio padrão\n",
      "tempo: \t\t 0.08459011713663737 \t 0.002652132916221481\n",
      "raio: \t\t 412.6 \t 26.477159968546474\n",
      "silhueta: \t 0.03320002140858858 \t 0.013246566520193691\n",
      "rand: \t\t 0.21372685983287662 \t 0.03493567717150601\n",
      "\n",
      "Teste kmeans feito:\n",
      "\t\t Média \t\t\t Desvio padrão\n",
      "tempo: \t\t 1.2223146200180053 \t 0.19198633627890108\n",
      "raio: \t\t 408.3333333333333 \t 18.17201756058535\n",
      "silhueta: \t 0.1914732386008193 \t 7.495632585334416e-05\n",
      "rand: \t\t 0.6783546496266367 \t 0.002849907211446475\n",
      "\n",
      "Teste refinamento com largura 1% feito:\n",
      "\t\t Média \t\t\t Desvio padrão\n",
      "tempo: \t\t 2.2172957181930544 \t 0.08339740190884619\n",
      "raio: \t\t 390.233333333333348 \t 25.846577250296715\n",
      "silhueta: \t 0.03842541396644875 \t 0.02076009023436945\n",
      "rand: \t\t 0.22398930507526324 \t 0.03934160864105827\n",
      "\n",
      "Teste refinamento com largura 5% feito:\n",
      "\t\t Média \t\t\t Desvio padrão\n",
      "tempo: \t\t 2.368815302848816 \t 0.6284068975830946\n",
      "raio: \t\t 385.266666666666652 \t 20.867731602218345\n",
      "silhueta: \t 0.032077332318306895 \t 0.022121377304399482\n",
      "rand: \t\t 0.207333509654612 \t 0.04210698610797083\n",
      "\n",
      "Teste refinamento com largura 10% feito:\n",
      "\t\t Média \t\t\t Desvio padrão\n",
      "tempo: \t\t 2.6012652079264322 \t 0.41805564962122566\n",
      "raio: \t\t 369.899999999999977 \t 22.092758994747577\n",
      "silhueta: \t 0.043792672608601355 \t 0.016408373215485182\n",
      "rand: \t\t 0.20435766576672157 \t 0.027054394623284503\n",
      "\n",
      "Teste refinamento com largura 15% feito:\n",
      "\t\t Média \t\t\t Desvio padrão\n",
      "tempo: \t\t 2.71557502746582 \t 0.8127027052007278\n",
      "raio: \t\t 385.633333333333326 \t 22.555831963276272\n",
      "silhueta: \t 0.0551300627733625 \t 0.019266673013402274\n",
      "rand: \t\t 0.15991473952008167 \t 0.041991229984977424\n",
      "\n",
      "Teste refinamento com largura 20% feito:\n",
      "\t\t Média \t\t\t Desvio padrão\n",
      "tempo: \t\t 2.5848906596501666 \t 0.6491081080763246\n",
      "raio: \t\t 381.000000000000000 \t 24.04994802489186\n",
      "silhueta: \t 0.057938361517669665 \t 0.018500008122647727\n",
      "rand: \t\t 0.1541259020154429 \t 0.042614364934465555\n",
      "\n"
     ]
    }
   ],
   "source": [
    "print(\"Teste Optical Recognition\")\n",
    "K, pontos, labels = dados_uci.dados_optical()\n",
    "E = experimento.experimento(K, pontos, labels, p)\n",
    "E.executar_testes()"
   ]
  },
  {
   "cell_type": "code",
   "execution_count": 3,
   "id": "c641bce5",
   "metadata": {
    "scrolled": false
   },
   "outputs": [
    {
     "name": "stdout",
     "output_type": "stream",
     "text": [
      "Teste Abalone\n",
      "Tempo para calcular matriz de dist:  48.44477558135986\n",
      "Teste incremental feito:\n",
      "\t\t Média \t\t\t Desvio padrão\n",
      "tempo: \t\t 0.401375691095988 \t 0.019923240921951996\n",
      "raio: \t\t 5.1116166666666665 \t 0.12127074965638768\n",
      "silhueta: \t 0.004346564880771949 \t 0.12712007039460738\n",
      "rand: \t\t 0.013530677584586768 \t 0.0018782029894253548\n",
      "\n",
      "Teste kmeans feito:\n",
      "\t\t Média \t\t\t Desvio padrão\n",
      "tempo: \t\t 0.7026897589365642 \t 0.24824404956964577\n",
      "raio: \t\t 5.665533333333332 \t 0.5489952023672174\n",
      "silhueta: \t 0.30334859743886516 \t 0.006203029337657755\n",
      "rand: \t\t 0.011145781606333673 \t 0.0006920071879425684\n",
      "\n",
      "Teste refinamento com largura 1% feito:\n",
      "\t\t Média \t\t\t Desvio padrão\n",
      "tempo: \t\t 1.4985629876454671 \t 0.1325016060417456\n",
      "raio: \t\t 5.059166666666667 \t 0.46967739519329177\n",
      "silhueta: \t 0.05260258566721302 \t 0.08317688625979697\n",
      "rand: \t\t 0.018708443234210972 \t 0.0049602434349848\n",
      "\n",
      "Teste refinamento com largura 5% feito:\n",
      "\t\t Média \t\t\t Desvio padrão\n",
      "tempo: \t\t 1.4959762811660766 \t 0.14378043631128964\n",
      "raio: \t\t 6.254233333333332 \t 0.34733340690978104\n",
      "silhueta: \t 0.043116794943544014 \t 0.125649492821129\n",
      "rand: \t\t 0.01982450283330771 \t 0.004951842919497357\n",
      "\n",
      "Teste refinamento com largura 10% feito:\n",
      "\t\t Média \t\t\t Desvio padrão\n",
      "tempo: \t\t 1.528058616320292 \t 0.212401281277658\n",
      "raio: \t\t 6.278783333333332 \t 0.40636292652696004\n",
      "silhueta: \t 0.08641555291495887 \t 0.10646074931603576\n",
      "rand: \t\t 0.018360684254098595 \t 0.003863564449178622\n",
      "\n",
      "Teste refinamento com largura 15% feito:\n",
      "\t\t Média \t\t\t Desvio padrão\n",
      "tempo: \t\t 1.4353906869888307 \t 0.043583891944548925\n",
      "raio: \t\t 5.616316666666665 \t 0.1856654914684531\n",
      "silhueta: \t 0.2667152427908325 \t 0.11755963233809764\n",
      "rand: \t\t 0.017362361131323487 \t 0.005453764562143397\n",
      "\n",
      "Teste refinamento com largura 20% feito:\n",
      "\t\t Média \t\t\t Desvio padrão\n",
      "tempo: \t\t 1.5834361950556437 \t 0.24904528225452957\n",
      "raio: \t\t 5.605416666666667 \t 0.18211448246150613\n",
      "silhueta: \t 0.2332948517369284 \t 0.15728786888405846\n",
      "rand: \t\t 0.018020618600292408 \t 0.004290812872330629\n",
      "\n"
     ]
    }
   ],
   "source": [
    "print(\"Teste Abalone\")\n",
    "K, pontos, labels = dados_uci.dados_abalone()\n",
    "E = experimento.experimento(K, pontos, labels, p)\n",
    "E.executar_testes()"
   ]
  },
  {
   "cell_type": "code",
   "execution_count": null,
   "id": "cb57dfa8",
   "metadata": {},
   "outputs": [
    {
     "name": "stdout",
     "output_type": "stream",
     "text": [
      "Teste Eletrical\n",
      "Tempo para calcular matriz de dist:  649.8358674049377\n",
      "Teste incremental feito:\n",
      "\t\t Média \t\t\t Desvio padrão\n",
      "tempo: \t\t 0.015559649467468262 \t 0.002499948370246319\n",
      "raio: \t\t 30.772843710851028 \t 2.532301237210533\n",
      "silhueta: \t 0.1341735872633856 \t 0.013871677686299533\n",
      "rand: \t\t 0.049534367368092844 \t 0.050942160094829714\n",
      "\n",
      "Teste kmeans feito:\n",
      "\t\t Média \t\t\t Desvio padrão\n",
      "tempo: \t\t 0.8908729473749797 \t 0.2510191599129655\n",
      "raio: \t\t 32.04456295120081 \t 2.244574508859209\n",
      "silhueta: \t 0.17406856616489497 \t 1.6907778867262052e-06\n",
      "rand: \t\t 0.03679733762815984 \t 0.003937757850978225\n",
      "\n",
      "Teste refinamento com largura 1% feito:\n",
      "\t\t Média \t\t\t Desvio padrão\n",
      "tempo: \t\t 17.96864224274953 \t 1.1487729360011045\n",
      "raio: \t\t 30.196521450126944 \t 2.6663551331955673\n",
      "silhueta: \t 0.14390783492080242 \t 0.018166669208135224\n",
      "rand: \t\t 0.04228384645460316 \t 0.04913782433533591\n",
      "\n"
     ]
    }
   ],
   "source": [
    "print(\"Teste Eletrical\")\n",
    "K, pontos, labels = dados_uci.dados_eletrical()\n",
    "E = experimento.experimento(K, pontos, labels, p)\n",
    "E.executar_testes()"
   ]
  },
  {
   "cell_type": "code",
   "execution_count": null,
   "id": "7226a684",
   "metadata": {},
   "outputs": [],
   "source": [
    "print(\"Teste Rice\")\n",
    "K, pontos, labels = dados_uci.dados_rice()\n",
    "E = experimento.experimento(K, pontos, labels, p)\n",
    "E.executar_testes()"
   ]
  },
  {
   "cell_type": "code",
   "execution_count": null,
   "id": "9ae4186e",
   "metadata": {},
   "outputs": [],
   "source": [
    "print(\"Teste Yeast\")\n",
    "K, pontos, labels = dados_uci.dados_yeast()\n",
    "E = experimento.experimento(K, pontos, labels, p)\n",
    "E.executar_testes()"
   ]
  },
  {
   "cell_type": "code",
   "execution_count": null,
   "id": "52ef4aff",
   "metadata": {},
   "outputs": [],
   "source": [
    "print(\"Teste Banknote\")\n",
    "K, pontos, labels = dados_uci.dados_banknote()\n",
    "E = experimento.experimento(K, pontos, labels, p)\n",
    "E.executar_testes()"
   ]
  },
  {
   "cell_type": "code",
   "execution_count": null,
   "id": "d1216dc7",
   "metadata": {},
   "outputs": [],
   "source": [
    "print(\"Teste Online Shopping\")\n",
    "K, pontos, labels = dados_uci.dados_shopping()\n",
    "E = experimento.experimento(K, pontos, labels, p)\n",
    "E.executar_testes()"
   ]
  },
  {
   "cell_type": "code",
   "execution_count": null,
   "id": "a3ca68d3",
   "metadata": {},
   "outputs": [],
   "source": [
    "print(\"Teste Raisin\")\n",
    "K, pontos, labels = dados_uci.dados_raisin()\n",
    "E = experimento.experimento(K, pontos, labels, p)\n",
    "E.executar_testes()"
   ]
  },
  {
   "cell_type": "code",
   "execution_count": null,
   "id": "3961632c",
   "metadata": {},
   "outputs": [],
   "source": [
    "print(\"Teste Red Wine\")\n",
    "K, pontos, labels = dados_uci.dados_wine_red()\n",
    "E = experimento.experimento(K, pontos, labels, p)\n",
    "E.executar_testes()"
   ]
  },
  {
   "cell_type": "code",
   "execution_count": null,
   "id": "db00798e",
   "metadata": {},
   "outputs": [],
   "source": [
    "print(\"Teste White Wine\")\n",
    "K, pontos, labels = dados_uci.dados_wine_white()\n",
    "E = experimento.experimento(K, pontos, labels, p)\n",
    "E.executar_testes()"
   ]
  },
  {
   "cell_type": "markdown",
   "id": "266a2ceb",
   "metadata": {},
   "source": [
    "# Agora com p=2"
   ]
  },
  {
   "cell_type": "code",
   "execution_count": null,
   "id": "442b4281",
   "metadata": {},
   "outputs": [],
   "source": [
    "# Norma de minkowski\n",
    "p = 2\n",
    "print(f\"Testes com p = {p}\")"
   ]
  },
  {
   "cell_type": "code",
   "execution_count": null,
   "id": "4bc3aa6a",
   "metadata": {},
   "outputs": [],
   "source": [
    "print(\"Teste Optical Recognition\")\n",
    "K, pontos, labels = dados_uci.dados_optical()\n",
    "E = experimento.experimento(K, pontos, labels, p)\n",
    "E.executar_testes()"
   ]
  },
  {
   "cell_type": "code",
   "execution_count": null,
   "id": "e869059c",
   "metadata": {},
   "outputs": [],
   "source": [
    "print(\"Teste Abalone\")\n",
    "K, pontos, labels = dados_uci.dados_abalone()\n",
    "E = experimento.experimento(K, pontos, labels, p)\n",
    "E.executar_testes()"
   ]
  },
  {
   "cell_type": "code",
   "execution_count": null,
   "id": "aff856e2",
   "metadata": {},
   "outputs": [],
   "source": [
    "print(\"Teste Eletrical\")\n",
    "K, pontos, labels = dados_uci.dados_eletrical()\n",
    "E = experimento.experimento(K, pontos, labels, p)\n",
    "E.executar_testes()"
   ]
  },
  {
   "cell_type": "code",
   "execution_count": null,
   "id": "7ef44c87",
   "metadata": {},
   "outputs": [],
   "source": [
    "print(\"Teste Rice\")\n",
    "K, pontos, labels = dados_uci.dados_rice()\n",
    "E = experimento.experimento(K, pontos, labels, p)\n",
    "E.executar_testes()"
   ]
  },
  {
   "cell_type": "code",
   "execution_count": null,
   "id": "d215d063",
   "metadata": {},
   "outputs": [],
   "source": [
    "print(\"Teste Yeast\")\n",
    "K, pontos, labels = dados_uci.dados_yeast()\n",
    "E = experimento.experimento(K, pontos, labels, p)\n",
    "E.executar_testes()"
   ]
  },
  {
   "cell_type": "code",
   "execution_count": null,
   "id": "db6d5860",
   "metadata": {},
   "outputs": [],
   "source": [
    "print(\"Teste Banknote\")\n",
    "K, pontos, labels = dados_uci.dados_banknote()\n",
    "E = experimento.experimento(K, pontos, labels, p)\n",
    "E.executar_testes()"
   ]
  },
  {
   "cell_type": "code",
   "execution_count": null,
   "id": "c539c75a",
   "metadata": {},
   "outputs": [],
   "source": [
    "print(\"Teste Online Shopping\")\n",
    "K, pontos, labels = dados_uci.dados_shopping()\n",
    "E = experimento.experimento(K, pontos, labels, p)\n",
    "E.executar_testes()"
   ]
  },
  {
   "cell_type": "code",
   "execution_count": null,
   "id": "d71d218b",
   "metadata": {},
   "outputs": [],
   "source": [
    "print(\"Teste Raisin\")\n",
    "K, pontos, labels = dados_uci.dados_raisin()\n",
    "E = experimento.experimento(K, pontos, labels, p)\n",
    "E.executar_testes()"
   ]
  },
  {
   "cell_type": "code",
   "execution_count": null,
   "id": "c54487fb",
   "metadata": {},
   "outputs": [],
   "source": [
    "print(\"Teste Red Wine\")\n",
    "K, pontos, labels = dados_uci.dados_wine_red()\n",
    "E = experimento.experimento(K, pontos, labels, p)\n",
    "E.executar_testes()"
   ]
  },
  {
   "cell_type": "code",
   "execution_count": null,
   "id": "50c90eb8",
   "metadata": {},
   "outputs": [],
   "source": [
    "print(\"Teste White Wine\")\n",
    "K, pontos, labels = dados_uci.dados_wine_white()\n",
    "E = experimento.experimento(K, pontos, labels, p)\n",
    "E.executar_testes()"
   ]
  },
  {
   "cell_type": "code",
   "execution_count": null,
   "id": "edbe0552",
   "metadata": {},
   "outputs": [],
   "source": []
  }
 ],
 "metadata": {
  "kernelspec": {
   "display_name": "Python 3 (ipykernel)",
   "language": "python",
   "name": "python3"
  },
  "language_info": {
   "codemirror_mode": {
    "name": "ipython",
    "version": 3
   },
   "file_extension": ".py",
   "mimetype": "text/x-python",
   "name": "python",
   "nbconvert_exporter": "python",
   "pygments_lexer": "ipython3",
   "version": "3.8.10"
  }
 },
 "nbformat": 4,
 "nbformat_minor": 5
}
