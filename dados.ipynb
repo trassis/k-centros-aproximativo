{
 "cells": [
  {
   "cell_type": "code",
   "execution_count": 18,
   "id": "6b930185",
   "metadata": {},
   "outputs": [],
   "source": [
    "import pandas as pd\n",
    "import numpy as np"
   ]
  },
  {
   "cell_type": "code",
   "execution_count": 19,
   "id": "1790aa53",
   "metadata": {
    "scrolled": false
   },
   "outputs": [
    {
     "data": {
      "text/plain": [
       "[2,\n",
       " array([[  3.6216 ,   8.6661 ,  -2.8073 ,  -0.44699],\n",
       "        [  4.5459 ,   8.1674 ,  -2.4586 ,  -1.4621 ],\n",
       "        [  3.866  ,  -2.6383 ,   1.9242 ,   0.10645],\n",
       "        ...,\n",
       "        [ -3.7503 , -13.4586 ,  17.5932 ,  -2.7771 ],\n",
       "        [ -3.5637 ,  -8.3827 ,  12.393  ,  -1.2823 ],\n",
       "        [ -2.5419 ,  -0.65804,   2.6842 ,   1.1952 ]]),\n",
       " array([0, 0, 0, ..., 1, 1, 1])]"
      ]
     },
     "execution_count": 19,
     "metadata": {},
     "output_type": "execute_result"
    }
   ],
   "source": [
    "import pandas as pd\n",
    "from scipy.io import arff\n",
    "\n",
    "def rice_data():\n",
    "    data, meta = arff.loadarff('./datasets/rice-cammeo-and-osmancik/Rice_Cammeo_Osmancik.arff')\n",
    "    df = pd.DataFrame(data)\n",
    "    return [ points_list, 2 ]\n",
    "\n",
    "def banknote_data():\n",
    "    df = pd.read_csv('datasets/banknote-authentication/data_banknote_authentication.txt', delimiter=',', header=None)\n",
    "    pontos = df.iloc[:, :-1].values\n",
    "    labels = df.iloc[:, -1].values\n",
    "    K = len(np.unique(labels))\n",
    "    \n",
    "    return [K, pontos, labels]\n",
    "    \n",
    "banknote_data()"
   ]
  },
  {
   "cell_type": "code",
   "execution_count": null,
   "id": "9f7a0ede",
   "metadata": {},
   "outputs": [],
   "source": []
  }
 ],
 "metadata": {
  "kernelspec": {
   "display_name": "Python 3 (ipykernel)",
   "language": "python",
   "name": "python3"
  },
  "language_info": {
   "codemirror_mode": {
    "name": "ipython",
    "version": 3
   },
   "file_extension": ".py",
   "mimetype": "text/x-python",
   "name": "python",
   "nbconvert_exporter": "python",
   "pygments_lexer": "ipython3",
   "version": "3.8.10"
  }
 },
 "nbformat": 4,
 "nbformat_minor": 5
}
