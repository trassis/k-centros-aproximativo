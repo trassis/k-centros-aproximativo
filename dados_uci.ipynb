{
 "cells": [
  {
   "cell_type": "code",
   "execution_count": 42,
   "id": "6b930185",
   "metadata": {},
   "outputs": [],
   "source": [
    "import pandas as pd\n",
    "import numpy as np\n",
    "from scipy.io import arff\n",
    "from sklearn.preprocessing import LabelEncoder"
   ]
  },
  {
   "cell_type": "code",
   "execution_count": 43,
   "id": "1790aa53",
   "metadata": {
    "scrolled": false
   },
   "outputs": [],
   "source": [
    "def ret_(df):\n",
    "    pontos = df.iloc[:, :-1].values\n",
    "    labels = df.iloc[:, -1].values\n",
    "    label_encoder = LabelEncoder()\n",
    "    labels = label_encoder.fit_transform(labels) \n",
    "    K = len(np.unique(labels))\n",
    "\n",
    "    return [K, pontos, labels]\n",
    "\n",
    "def dados_rice():\n",
    "    df = arff.loadarff('./datasets/rice-cammeo-and-osmancik/Rice_Cammeo_Osmancik.arff')\n",
    "    df = pd.DataFrame(df[0])\n",
    "    return ret_(df)\n",
    "\n",
    "def dados_banknote():\n",
    "    df = pd.read_csv('datasets/banknote-authentication/data_banknote_authentication.txt', delimiter=',', header=None)\n",
    "    return ret_(df) \n",
    "\n",
    "def dados_wine_red():\n",
    "    df = pd.read_csv('datasets/wine-quality/winequality-red.csv', delimiter=';')\n",
    "    return ret_(df)\n",
    "\n",
    "def dados_wine_white():\n",
    "    df = pd.read_csv('datasets/wine-quality/winequality-white.csv', delimiter=';')\n",
    "    return ret_(df)\n",
    "\n",
    "def dados_abalone():\n",
    "    df = pd.read_csv('datasets/abalone/abalone.data', delimiter=',', header=None)\n",
    "    df[0] = df[0].map({'F':0, 'M':1})\n",
    "    return ret_(df)\n",
    "\n",
    "def dados_eletrical():\n",
    "    df = pd.read_csv('datasets/eletrical-stability/eletrical.csv')\n",
    "    return ret_(df)\n",
    "\n",
    "def dados_raisin():\n",
    "    df = arff.loadarff('./datasets/raisin/Raisin_Dataset/Raisin_Dataset.arff')\n",
    "    df = pd.DataFrame(df[0])\n",
    "    return ret_(df)\n",
    "\n",
    "def dados_shopping():\n",
    "    df = pd.read_csv('datasets/online-shopping/online_shoppers.csv')\n",
    "    df.drop('Month', axis=1, inplace=True)\n",
    "    df.drop('Revenue', axis=1, inplace=True)\n",
    "    df.drop('Weekend', axis=1, inplace=True)\n",
    "    return ret_(df)\n",
    "\n",
    "def dados_yeast():\n",
    "    df = pd.read_csv('datasets/yeast/yeast.data', delim_whitespace=True)\n",
    "    df.drop(df.columns[0], axis=1, inplace=True)\n",
    "    return ret_(df)\n",
    "\n",
    "def dados_optical():\n",
    "    df = pd.read_csv('datasets/optical_recognition_of_handwritten_digits/optdigits.tra')\n",
    "    return ret_(df)"
   ]
  },
  {
   "cell_type": "code",
   "execution_count": 47,
   "id": "9f7a0ede",
   "metadata": {},
   "outputs": [
    {
     "data": {
      "text/plain": [
       "[10,\n",
       " array([[0.43, 0.67, 0.48, ..., 0.  , 0.53, 0.22],\n",
       "        [0.64, 0.62, 0.49, ..., 0.  , 0.53, 0.22],\n",
       "        [0.58, 0.44, 0.57, ..., 0.  , 0.54, 0.22],\n",
       "        ...,\n",
       "        [0.67, 0.57, 0.36, ..., 0.  , 0.56, 0.22],\n",
       "        [0.43, 0.4 , 0.6 , ..., 0.  , 0.53, 0.39],\n",
       "        [0.65, 0.54, 0.54, ..., 0.  , 0.53, 0.22]]),\n",
       " array([6, 6, 7, ..., 4, 7, 0])]"
      ]
     },
     "execution_count": 47,
     "metadata": {},
     "output_type": "execute_result"
    }
   ],
   "source": [
    "# dados_rice()\n",
    "# dados_banknote()\n",
    "# dados_wine_red()\n",
    "# dados_wine_white()\n",
    "# dados_abalone()\n",
    "# dados_eletrical()\n",
    "# dados_raisin()\n",
    "# dados_shopping()\n",
    "# dados_yeast()\n",
    "# dados_optical()"
   ]
  },
  {
   "cell_type": "code",
   "execution_count": null,
   "id": "fa3e0dfc",
   "metadata": {},
   "outputs": [],
   "source": []
  }
 ],
 "metadata": {
  "kernelspec": {
   "display_name": "Python 3 (ipykernel)",
   "language": "python",
   "name": "python3"
  },
  "language_info": {
   "codemirror_mode": {
    "name": "ipython",
    "version": 3
   },
   "file_extension": ".py",
   "mimetype": "text/x-python",
   "name": "python",
   "nbconvert_exporter": "python",
   "pygments_lexer": "ipython3",
   "version": "3.8.10"
  }
 },
 "nbformat": 4,
 "nbformat_minor": 5
}
