{
 "cells": [
  {
   "cell_type": "code",
   "execution_count": 30,
   "id": "6b930185",
   "metadata": {},
   "outputs": [],
   "source": [
    "import pandas as pd\n",
    "import numpy as np\n",
    "from scipy.io import arff\n",
    "from sklearn.preprocessing import LabelEncoder"
   ]
  },
  {
   "cell_type": "code",
   "execution_count": 38,
   "id": "1790aa53",
   "metadata": {
    "scrolled": false
   },
   "outputs": [],
   "source": [
    "def ret_(df):\n",
    "    pontos = df.iloc[:, :-1].values\n",
    "    labels = df.iloc[:, -1].values\n",
    "    label_encoder = LabelEncoder()\n",
    "    labels = label_encoder.fit_transform(labels) \n",
    "    K = len(np.unique(labels))\n",
    "\n",
    "    return [K, pontos, labels]\n",
    "\n",
    "def dados_rice():\n",
    "    df = arff.loadarff('./datasets/rice-cammeo-and-osmancik/Rice_Cammeo_Osmancik.arff')\n",
    "    df = pd.DataFrame(df[0])\n",
    "    return ret_(df)\n",
    "\n",
    "def dados_banknote():\n",
    "    df = pd.read_csv('datasets/banknote-authentication/data_banknote_authentication.txt', delimiter=',', header=None)\n",
    "    return ret_(df) \n",
    "\n",
    "def dados_wine_red():\n",
    "    df = pd.read_csv('datasets/wine-quality/winequality-red.csv', delimiter=';')\n",
    "    return ret_(df)\n",
    "\n",
    "def dados_wine_white():\n",
    "    df = pd.read_csv('datasets/wine-quality/winequality-white.csv', delimiter=';')\n",
    "    return ret_(df)\n",
    "\n",
    "def dados_abalone():\n",
    "    df = pd.read_csv('datasets/abalone/abalone.data', delimiter=',', header=None)\n",
    "    df[0] = df[0].map({'F':0, 'M':1})\n",
    "    return ret_(df)\n",
    "\n",
    "def dados_eletrical():\n",
    "    df = pd.read_csv('datasets/eletrical-stability/eletrical.csv')\n",
    "    return ret_(df)\n",
    "\n",
    "def dados_optical():\n",
    "    df = pd.read_csv('datasets/optical_recognition_of_handwritten_digits/optdigits.tra')\n",
    "    return ret_(df)"
   ]
  },
  {
   "cell_type": "code",
   "execution_count": 39,
   "id": "9f7a0ede",
   "metadata": {},
   "outputs": [
    {
     "data": {
      "text/plain": [
       "[10,\n",
       " array([[ 0,  0, 10, ...,  3,  0,  0],\n",
       "        [ 0,  0,  8, ...,  0,  0,  0],\n",
       "        [ 0,  0,  0, ...,  2,  0,  0],\n",
       "        ...,\n",
       "        [ 0,  0,  3, ...,  9,  0,  0],\n",
       "        [ 0,  0,  6, ..., 16,  5,  0],\n",
       "        [ 0,  0,  2, ...,  0,  0,  0]]),\n",
       " array([0, 7, 4, ..., 6, 6, 7])]"
      ]
     },
     "execution_count": 39,
     "metadata": {},
     "output_type": "execute_result"
    }
   ],
   "source": [
    "# dados_rice()\n",
    "# dados_banknote()\n",
    "# dados_wine_red()\n",
    "# dados_wine_white()\n",
    "# dados_abalone()\n",
    "# dados_eletrical()\n",
    "# dados_optical()"
   ]
  },
  {
   "cell_type": "code",
   "execution_count": null,
   "id": "f466a60a",
   "metadata": {},
   "outputs": [],
   "source": []
  }
 ],
 "metadata": {
  "kernelspec": {
   "display_name": "Python 3 (ipykernel)",
   "language": "python",
   "name": "python3"
  },
  "language_info": {
   "codemirror_mode": {
    "name": "ipython",
    "version": 3
   },
   "file_extension": ".py",
   "mimetype": "text/x-python",
   "name": "python",
   "nbconvert_exporter": "python",
   "pygments_lexer": "ipython3",
   "version": "3.8.10"
  }
 },
 "nbformat": 4,
 "nbformat_minor": 5
}
